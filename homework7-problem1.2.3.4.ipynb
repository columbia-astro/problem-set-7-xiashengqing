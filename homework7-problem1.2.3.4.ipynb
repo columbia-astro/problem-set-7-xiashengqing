{
 "cells": [
  {
   "cell_type": "code",
   "execution_count": 1,
   "metadata": {
    "collapsed": true
   },
   "outputs": [],
   "source": [
    "import math\n",
    "import numpy as np\n",
    "import kplr\n",
    "\n",
    "# Find the target KOI.\n",
    "client = kplr.API()\n",
    "koi = client.koi(97.01)\n",
    "\n",
    "# Get a list of light curve datasets.\n",
    "lcs = koi.get_light_curves(short_cadence=False)\n",
    "\n",
    "# Open the first dataset and read it\n",
    "f = lcs[0].open()\n",
    "hdu_data = f[1].data\n",
    "time = hdu_data[\"time\"]  # get the time of each observation\n",
    "flux = hdu_data[\"sap_flux\"] # get the flux\n",
    "flux_err = hdu_data[\"sap_flux_err\"] # get the error in the flux\n",
    "f.close()"
   ]
  },
  {
   "cell_type": "markdown",
   "metadata": {},
   "source": [
    "# Problem 1"
   ]
  },
  {
   "cell_type": "code",
   "execution_count": 2,
   "metadata": {
    "collapsed": true
   },
   "outputs": [],
   "source": [
    "index = np.where((time > 124) & (time < 125))\n",
    "time_obs = time[index]\n",
    "flux_obs = flux[index]\n",
    "flux_err_obs = flux_err[index]"
   ]
  },
  {
   "cell_type": "code",
   "execution_count": 3,
   "metadata": {
    "collapsed": true
   },
   "outputs": [],
   "source": [
    "import numpy as np\n",
    "def function_F(flux):\n",
    "    flux_selected=[]\n",
    "    avg = np.mean(flux)\n",
    "    std = np.std(flux)\n",
    "    for i in range(0,len(flux),1):\n",
    "        if(abs(flux[i]-avg)/std<=2):\n",
    "            flux_selected.append(flux[i])\n",
    "    return flux_selected\n",
    "\n",
    "\n",
    "flux=flux_obs\n",
    "for i in range(1,8,1):\n",
    "    flux=function_F(flux)\n",
    "flux_mean=sum(flux)/len(flux)\n",
    "flux=flux_obs/flux_mean\n",
    "error=flux_err_obs/flux_mean\n",
    "\n",
    "# guess of z, using t0=124.51, tao=0.1, p=0.0775\n",
    "t0=124.51\n",
    "tao=0.1\n",
    "z=(time_obs-t0)/tao"
   ]
  },
  {
   "cell_type": "code",
   "execution_count": 4,
   "metadata": {
    "collapsed": true
   },
   "outputs": [],
   "source": [
    "import math as m\n",
    "import numpy as np\n",
    "def integrator1(a,b,N,z,p):\n",
    "    deltax=(b-a)/N\n",
    "    xi=a\n",
    "    i=0\n",
    "    sum=0\n",
    "    while(i<=N-1):\n",
    "        xi=a+i*deltax\n",
    "        sum=sum+deltax*func1(xi,p,z)\n",
    "        i=i+1\n",
    "    return sum\n",
    "\n",
    "def integratorgeneral(a,b,N,z,p):\n",
    "    deltax=(b-a)/N\n",
    "    xi=a\n",
    "    i=0\n",
    "    sum=0\n",
    "    while(i<=N-1):\n",
    "        xi=a+i*deltax\n",
    "        sum=sum+deltax*func2(xi,p,z)\n",
    "        i=i+1\n",
    "    return sum\n",
    "\n",
    "\n",
    "\n",
    "def F_function(z,p,N):\n",
    "    F1=integrator1(0,1,N,z,p)\n",
    "    F2=integratorgeneral(0,1,N,z,p)\n",
    "    return F1/F2\n",
    "\n",
    "import my_transit\n",
    "\n",
    "def I(r):\n",
    "    '''A Limb-darkening function'''\n",
    "    mu = (1 - (r**2))**(0.5)\n",
    "    return 1 - (1 - (mu**(0.5)))\n",
    "\n",
    "def func1(r, p, z):\n",
    "    return I(r) * (1 - my_transit.delta(p,r,abs(z))) * 2 * r\n",
    "\n",
    "def func2(r, p, z):\n",
    "    return I(r) * 2 * r\n",
    "\n",
    "\n",
    "# Find an eclipse shape use p=0.0775\n",
    "F_estimated=[]\n",
    "for i in range(0,len(flux),1):\n",
    "    F_estimated.append(F_function(abs(z[i]),0.0775,1000))"
   ]
  },
  {
   "cell_type": "code",
   "execution_count": 5,
   "metadata": {},
   "outputs": [
    {
     "data": {
      "image/png": "[encoded data removed]",
      "text/plain": [
       "<matplotlib.figure.Figure at 0x114760f98>"
      ]
     },
     "metadata": {},
     "output_type": "display_data"
    },
    {
     "name": "stdout",
     "output_type": "stream",
     "text": [
      "It is a good fit.\n"
     ]
    }
   ],
   "source": [
    "import matplotlib.pyplot as plt\n",
    "p1=plt.scatter(z,flux,marker='x',color='g',label='1',s=30) \n",
    "p2=plt.scatter(z,F_estimated,marker='.',color='r',label='1',s=30) \n",
    "plt.ylim(0.9885,1.0006)\n",
    "plt.legend([p1,p2],['Original data','Estimators'])\n",
    "plt.xlabel('z')  \n",
    "plt.ylabel('Flux')\n",
    "plt.show()\n",
    "print(\"It is a good fit.\")"
   ]
  },
  {
   "cell_type": "code",
   "execution_count": 6,
   "metadata": {
    "collapsed": true
   },
   "outputs": [],
   "source": [
    "#compute X square\n",
    "x_square=0\n",
    "for i in range(0,len(flux),1):\n",
    "    x_square=x_square+((flux[i]-F_estimated[i])/error[i])**2"
   ]
  },
  {
   "cell_type": "code",
   "execution_count": 7,
   "metadata": {},
   "outputs": [
    {
     "name": "stdout",
     "output_type": "stream",
     "text": [
      "X square= 464.170373532\n"
     ]
    }
   ],
   "source": [
    "print(\"X square=\",x_square)"
   ]
  },
  {
   "cell_type": "markdown",
   "metadata": {},
   "source": [
    "# Problem 2"
   ]
  },
  {
   "cell_type": "code",
   "execution_count": 8,
   "metadata": {},
   "outputs": [
    {
     "name": "stdout",
     "output_type": "stream",
     "text": [
      "Q= [  1.75064678e-70   1.48683023e-73]\n",
      "since p-value is too low, it is not a good fit.\n"
     ]
    }
   ],
   "source": [
    "from scipy.special import gamma\n",
    "import numpy as np\n",
    "from scipy.integrate import quad,dblquad,nquad\n",
    "N=len(flux)\n",
    "M=3\n",
    "v=N-M #degrees of freedom\n",
    "print('Q=',quad(lambda  x:np.exp(-x)*x**(v/2-1),x_square/2,np.inf)/gamma(v/2))\n",
    "print(\"since p-value is too low, it is not a good fit.\")"
   ]
  },
  {
   "cell_type": "markdown",
   "metadata": {},
   "source": [
    "# Problem 3"
   ]
  },
  {
   "cell_type": "code",
   "execution_count": 9,
   "metadata": {
    "collapsed": true
   },
   "outputs": [],
   "source": [
    "#vary tao\n",
    "tao=0.08\n",
    "t0=124.51\n",
    "x_squarelist=[]\n",
    "tao_list=[]\n",
    "while tao<0.13:\n",
    "    tao_list.append(tao)\n",
    "    z=(time_obs-t0)/tao\n",
    "    F_estimated=[]\n",
    "    for i in range(0,len(flux),1):\n",
    "        F_estimated.append(F_function(abs(z[i]),0.0775,1000))\n",
    "    x_square=0\n",
    "    for i in range(0,len(flux),1):\n",
    "        x_square=x_square+((flux[i]-F_estimated[i])/error[i])**2\n",
    "    x_squarelist.append(x_square)\n",
    "    tao=tao+0.001    "
   ]
  },
  {
   "cell_type": "code",
   "execution_count": 11,
   "metadata": {},
   "outputs": [
    {
     "data": {
      "image/png": "[encoded data removed]",
      "text/plain": [
       "<matplotlib.figure.Figure at 0x141dea3588>"
      ]
     },
     "metadata": {},
     "output_type": "display_data"
    }
   ],
   "source": [
    "p1=plt.scatter(tao_list,x_squarelist,marker='.',color='c',label='1',s=30) \n",
    "plt.xlabel('tao')  \n",
    "plt.ylabel('x_square')\n",
    "plt.show()"
   ]
  },
  {
   "cell_type": "code",
   "execution_count": 12,
   "metadata": {
    "collapsed": true
   },
   "outputs": [],
   "source": [
    "minval=np.min(x_squarelist)\n",
    "index=np.where(x_squarelist==minval)"
   ]
  },
  {
   "cell_type": "code",
   "execution_count": 13,
   "metadata": {},
   "outputs": [
    {
     "data": {
      "text/plain": [
       "(array([17]),)"
      ]
     },
     "execution_count": 13,
     "metadata": {},
     "output_type": "execute_result"
    }
   ],
   "source": [
    "index"
   ]
  },
  {
   "cell_type": "code",
   "execution_count": 14,
   "metadata": {},
   "outputs": [
    {
     "name": "stdout",
     "output_type": "stream",
     "text": [
      "minimum x square= 245.082238281 tao= 0.09700000000000002\n"
     ]
    }
   ],
   "source": [
    "print('minimum x square=',x_squarelist[17],'tao=',tao_list[17])"
   ]
  },
  {
   "cell_type": "code",
   "execution_count": 15,
   "metadata": {
    "collapsed": true
   },
   "outputs": [],
   "source": [
    "#plot for tao=0.097\n",
    "t0=124.51\n",
    "z=(time_obs-t0)/0.097\n",
    "# Find an eclipse shape use p=0.0775\n",
    "F_estimated=[]\n",
    "for i in range(0,len(flux),1):\n",
    "    F_estimated.append(F_function(abs(z[i]),0.0775,1000))"
   ]
  },
  {
   "cell_type": "code",
   "execution_count": 16,
   "metadata": {},
   "outputs": [
    {
     "data": {
      "image/png": "[encoded data removed]",
      "text/plain": [
       "<matplotlib.figure.Figure at 0x151dfd7ba8>"
      ]
     },
     "metadata": {},
     "output_type": "display_data"
    }
   ],
   "source": [
    "p1=plt.scatter(z,flux,marker='x',color='g',label='1',s=30) \n",
    "p2=plt.scatter(z,F_estimated,marker='.',color='r',label='1',s=30) \n",
    "plt.ylim(0.9885,1.0006)\n",
    "plt.legend([p1,p2],['Original data','Estimators'])\n",
    "plt.xlabel('z')  \n",
    "plt.ylabel('Flux')\n",
    "plt.title('plot for tao=0.097') \n",
    "plt.show()"
   ]
  },
  {
   "cell_type": "code",
   "execution_count": 17,
   "metadata": {},
   "outputs": [
    {
     "name": "stdout",
     "output_type": "stream",
     "text": [
      "Q(tao=0.097)= [  5.72161036e-29   8.49177109e-31]\n",
      "since p-value is too low, it is not a good fit.\n"
     ]
    }
   ],
   "source": [
    "print('Q(tao=0.097)=',quad(lambda  x:np.exp(-x)*x**(v/2-1),x_squarelist[17]/2,np.inf)/gamma(v/2))\n",
    "print(\"since p-value is too low, it is not a good fit.\")"
   ]
  },
  {
   "cell_type": "code",
   "execution_count": 31,
   "metadata": {
    "collapsed": true
   },
   "outputs": [],
   "source": [
    "tao=0.0965\n",
    "t0=124.51\n",
    "x_squarelist2=[]\n",
    "tao_list2=[]\n",
    "while tao<0.0975:\n",
    "    tao_list2.append(tao)\n",
    "    z=(time_obs-t0)/tao\n",
    "    F_estimated2=[]\n",
    "    for i in range(0,len(flux),1):\n",
    "        F_estimated2.append(F_function(abs(z[i]),0.0775,1000))\n",
    "    x_square=0\n",
    "    for i in range(0,len(flux),1):\n",
    "        x_square=x_square+((flux[i]-F_estimated2[i])/error[i])**2\n",
    "    x_squarelist2.append(x_square)\n",
    "    tao=tao+0.00002   "
   ]
  },
  {
   "cell_type": "code",
   "execution_count": 46,
   "metadata": {},
   "outputs": [
    {
     "data": {
      "image/png": "[encoded data removed]",
      "text/plain": [
       "<matplotlib.figure.Figure at 0x151e823b00>"
      ]
     },
     "metadata": {},
     "output_type": "display_data"
    }
   ],
   "source": [
    "p1=plt.scatter(tao_list2,x_squarelist2,marker='.',color='g',label='1',s=30) \n",
    "plt.xlabel('tao')  \n",
    "plt.ylabel('x_square')\n",
    "x=np.arange(0.092,0.102,0.0002)\n",
    "y=x_squarelist[17]+1+x*0\n",
    "p2=plt.plot(x,y,color='r')\n",
    "plt.show()"
   ]
  },
  {
   "cell_type": "code",
   "execution_count": 37,
   "metadata": {
    "collapsed": true
   },
   "outputs": [],
   "source": [
    "index = np.where(x_squarelist2 < x_squarelist[17]+1)"
   ]
  },
  {
   "cell_type": "code",
   "execution_count": 38,
   "metadata": {},
   "outputs": [
    {
     "data": {
      "text/plain": [
       "(array([10, 11, 12, 13, 14, 15, 16, 17, 18, 19, 20, 21, 22, 23, 24, 25, 26,\n",
       "        27, 28, 29, 30, 31]),)"
      ]
     },
     "execution_count": 38,
     "metadata": {},
     "output_type": "execute_result"
    }
   ],
   "source": [
    "index"
   ]
  },
  {
   "cell_type": "code",
   "execution_count": 49,
   "metadata": {},
   "outputs": [
    {
     "name": "stdout",
     "output_type": "stream",
     "text": [
      "one-sigma uncertainty= 0.0004200000000001286\n"
     ]
    }
   ],
   "source": [
    "uncertainty=tao_list2[31]-tao_list2[10]\n",
    "print(\"one-sigma uncertainty=\",uncertainty)"
   ]
  },
  {
   "cell_type": "markdown",
   "metadata": {},
   "source": [
    "# Problem 4"
   ]
  },
  {
   "cell_type": "code",
   "execution_count": 50,
   "metadata": {
    "collapsed": true
   },
   "outputs": [],
   "source": [
    "import emcee\n",
    "import numpy as np\n",
    "import matplotlib.pyplot as plt"
   ]
  },
  {
   "cell_type": "code",
   "execution_count": 54,
   "metadata": {
    "collapsed": true
   },
   "outputs": [],
   "source": [
    "def xquare(p,t0,tao):\n",
    "    z=(time_obs-t0)/tao\n",
    "    F_estimated=[]\n",
    "    for i in range(0,len(flux),1):\n",
    "        F_estimated.append(F_function(abs(z[i]),p,1000))\n",
    "    x_square=0\n",
    "    for i in range(0,len(flux),1):\n",
    "        x_square=x_square+((flux[i]-F_estimated[i])/error[i])**2\n",
    "    return x_square"
   ]
  },
  {
   "cell_type": "code",
   "execution_count": 85,
   "metadata": {},
   "outputs": [],
   "source": [
    "def lnprob(x, ivar):\n",
    "    p,t0,tao=x\n",
    "    return -0.5 * np.sum(ivar * xquare(p,t0,tao))\n",
    "\n",
    "ndim, nwalkers = 3, 100\n",
    "ivar = 1. / np.random.rand(ndim)"
   ]
  },
  {
   "cell_type": "code",
   "execution_count": 86,
   "metadata": {},
   "outputs": [],
   "source": [
    "p0 = [np.random.rand(ndim) for i in range(nwalkers)]"
   ]
  },
  {
   "cell_type": "code",
   "execution_count": 101,
   "metadata": {},
   "outputs": [],
   "source": [
    "sampler = emcee.EnsembleSampler(nwalkers, ndim, lnprob, args=[ivar])"
   ]
  },
  {
   "cell_type": "code",
   "execution_count": 102,
   "metadata": {},
   "outputs": [
    {
     "data": {
      "text/plain": [
       "(array([[ 1.37837367,  1.47541041,  0.4132489 ],\n",
       "        [ 0.75490722,  0.45306474,  0.22180249],\n",
       "        [-4.72181113, -0.31247242,  1.76238655],\n",
       "        [-3.2441988 ,  6.37690906, -0.04104177],\n",
       "        [ 2.16086066,  2.29022761,  1.29345999],\n",
       "        [ 2.45819997,  1.23681241,  1.89122292],\n",
       "        [ 1.60495635,  0.76782936,  0.60738695],\n",
       "        [ 0.22128582, -0.56557402, -0.32999338],\n",
       "        [ 0.01002026,  0.96659273,  0.33411621],\n",
       "        [ 0.79289887,  1.70605869, -0.43731816],\n",
       "        [ 0.09686945,  0.9075503 ,  0.50653176],\n",
       "        [ 4.52884968,  2.37369824, -0.21235632],\n",
       "        [ 0.13135769,  0.98203741,  0.81482795],\n",
       "        [-0.16607496,  0.04088446,  1.19309132],\n",
       "        [ 0.22261844,  0.67089789,  0.23799777],\n",
       "        [ 0.90075051, -2.53395932,  2.79140584],\n",
       "        [-0.38201526,  1.34405711,  0.78417992],\n",
       "        [ 1.60918483,  1.86534677,  1.13967827],\n",
       "        [-1.00714878,  0.65469331,  1.99137266],\n",
       "        [-1.82115066,  0.53946517,  0.08074879],\n",
       "        [-0.81896539,  1.42707963,  0.86443112],\n",
       "        [-7.21285303,  0.98854059, -2.17873397],\n",
       "        [ 0.95328101,  1.26743538,  0.50961371],\n",
       "        [ 0.11255221,  1.1587823 , -0.25963759],\n",
       "        [-0.11285542,  0.17414861,  0.23212914],\n",
       "        [-0.35984663,  0.31077318,  0.0297219 ],\n",
       "        [ 0.95175891,  0.04585556,  0.83844033],\n",
       "        [ 2.71556487, -2.99130703,  1.61333352],\n",
       "        [-1.76725109,  1.97719167,  1.18409965],\n",
       "        [-0.5584998 ,  0.76335303,  0.50133194],\n",
       "        [-0.64585471,  4.13442048,  2.18111159],\n",
       "        [ 1.12981748,  0.30927921,  1.61088634],\n",
       "        [ 0.55130988,  0.09768484,  0.07439203],\n",
       "        [-3.71517586,  2.74259425,  3.1176063 ],\n",
       "        [ 1.20642787, -0.45763614,  0.22015043],\n",
       "        [-2.07924016,  0.40051224, -1.71502853],\n",
       "        [ 0.39631454,  0.14677444,  0.32417882],\n",
       "        [ 0.86633716,  1.23466151,  0.93143817],\n",
       "        [ 0.06465811,  0.65118562,  0.39849503],\n",
       "        [ 0.54612643,  0.23738719,  0.41725345],\n",
       "        [ 0.61958361,  0.68650546,  1.4722428 ],\n",
       "        [ 1.18314453, -2.95814745, -1.38669557],\n",
       "        [ 0.31656603,  0.41880761,  0.51225795],\n",
       "        [ 0.05431013,  0.94321317,  1.0020315 ],\n",
       "        [-0.81631915,  0.5548459 , -0.01039021],\n",
       "        [-0.47385431,  1.53412367,  1.81593387],\n",
       "        [-1.9558935 , -1.63808813,  0.70242043],\n",
       "        [ 1.25473576, -2.65305228, -0.60518639],\n",
       "        [-0.78190244,  0.43163321,  1.38528386],\n",
       "        [-1.97903589,  3.00187332,  0.32425497],\n",
       "        [ 1.23302322, -0.380353  ,  1.42650334],\n",
       "        [-1.35584203,  0.3578605 ,  1.4166611 ],\n",
       "        [ 0.73183616,  0.65804582,  0.90920881],\n",
       "        [ 0.01067362,  1.23170447,  0.59196979],\n",
       "        [-0.7034472 , -0.69904344,  0.32513113],\n",
       "        [ 1.50862182,  1.6014567 ,  0.54171494],\n",
       "        [-0.56463173,  0.61543935,  0.50194986],\n",
       "        [-0.58649585,  4.2593903 , -2.47656065],\n",
       "        [ 2.755201  ,  0.28798486,  1.55514512],\n",
       "        [-0.083819  ,  0.93757394, -0.15623217],\n",
       "        [ 1.32074953,  0.90941724, -0.17129982],\n",
       "        [ 1.83323315,  0.15962384, -0.79147514],\n",
       "        [ 1.28436697,  0.12136907, -1.09944726],\n",
       "        [ 0.18156883,  4.15283487, -1.56967262],\n",
       "        [ 3.2303724 , -0.23111287,  2.83929811],\n",
       "        [-0.27253321,  1.72268729,  0.0813528 ],\n",
       "        [-0.78718115,  2.49688424, -0.34248819],\n",
       "        [-4.72365439, -4.12817186, -4.89551173],\n",
       "        [ 3.18801792, -0.05794512,  1.34120786],\n",
       "        [ 5.34520436, -0.76251976, -0.66860545],\n",
       "        [-2.20951018,  0.35619511,  0.13420941],\n",
       "        [ 0.68426529,  1.08796126, -2.94223246],\n",
       "        [-2.21767238, -0.12789074, -0.90095041],\n",
       "        [ 1.06705335, -0.24132406,  0.62610002],\n",
       "        [ 0.31544794,  0.01094109, -1.5752531 ],\n",
       "        [ 0.9784018 , -1.32699905,  0.03284854],\n",
       "        [ 1.36897092,  1.85909351, -0.34975739],\n",
       "        [ 1.02883274,  0.87359154,  0.05710281],\n",
       "        [ 0.97455505, -0.75824769,  1.29207263],\n",
       "        [ 0.30091884,  1.33971655,  2.08274193],\n",
       "        [ 2.61477171, -1.6896189 , -1.26595857],\n",
       "        [-0.58541652,  0.58715325,  2.20062773],\n",
       "        [ 0.96720823,  0.71828792,  1.39125314],\n",
       "        [ 0.58639917,  0.21977064,  0.46594347],\n",
       "        [ 2.10358819, -0.61926806,  0.20243076],\n",
       "        [-5.463009  ,  0.54203578, -4.27391722],\n",
       "        [-0.24955644,  1.30403756, -0.0234972 ],\n",
       "        [ 2.37826758,  0.13286113, -0.38933287],\n",
       "        [ 3.50406826,  3.68397895,  1.05117978],\n",
       "        [ 1.97629079, -1.47378086,  0.255588  ],\n",
       "        [ 0.18220715, -1.79149787,  2.12354042],\n",
       "        [ 0.39446851, -0.37657492, -0.65317185],\n",
       "        [-0.79382275,  1.73267786,  0.39258265],\n",
       "        [ 0.21273696,  0.24630908, -0.16953089],\n",
       "        [ 0.68122821, -0.3790946 , -1.68925315],\n",
       "        [ 1.12886626,  0.19712939,  0.37742425],\n",
       "        [ 1.52143665,  1.17720238, -0.49397666],\n",
       "        [ 0.17429768,  2.31203532,  1.109635  ],\n",
       "        [ 0.36226093,  0.57035576,  0.59945189],\n",
       "        [ 3.57915639, -0.48519354,  0.92942783]]),\n",
       " array([-207179.7121632, -207179.7121632, -207179.7121632, -207179.7121632,\n",
       "        -207179.7121632, -207179.7121632, -207179.7121632, -207179.7121632,\n",
       "        -207179.7121632, -207179.7121632, -207179.7121632, -207179.7121632,\n",
       "        -207179.7121632, -207179.7121632, -207179.7121632, -207179.7121632,\n",
       "        -207179.7121632, -207179.7121632, -207179.7121632, -207179.7121632,\n",
       "        -207179.7121632, -207179.7121632, -207179.7121632, -207179.7121632,\n",
       "        -207179.7121632, -207179.7121632, -207179.7121632, -207179.7121632,\n",
       "        -207179.7121632, -207179.7121632, -207179.7121632, -207179.7121632,\n",
       "        -207179.7121632, -207179.7121632, -207179.7121632, -207179.7121632,\n",
       "        -207179.7121632, -207179.7121632, -207179.7121632, -207179.7121632,\n",
       "        -207179.7121632, -207179.7121632, -207179.7121632, -207179.7121632,\n",
       "        -207179.7121632, -207179.7121632, -207179.7121632, -207179.7121632,\n",
       "        -207179.7121632, -207179.7121632, -207179.7121632, -207179.7121632,\n",
       "        -207179.7121632, -207179.7121632, -207179.7121632, -207179.7121632,\n",
       "        -207179.7121632, -207179.7121632, -207179.7121632, -207179.7121632,\n",
       "        -207179.7121632, -207179.7121632, -207179.7121632, -207179.7121632,\n",
       "        -207179.7121632, -207179.7121632, -207179.7121632, -207179.7121632,\n",
       "        -207179.7121632, -207179.7121632, -207179.7121632, -207179.7121632,\n",
       "        -207179.7121632, -207179.7121632, -207179.7121632, -207179.7121632,\n",
       "        -207179.7121632, -207179.7121632, -207179.7121632, -207179.7121632,\n",
       "        -207179.7121632, -207179.7121632, -207179.7121632, -207179.7121632,\n",
       "        -207179.7121632, -207179.7121632, -207179.7121632, -207179.7121632,\n",
       "        -207179.7121632, -207179.7121632, -207179.7121632, -207179.7121632,\n",
       "        -207179.7121632, -207179.7121632, -207179.7121632, -207179.7121632,\n",
       "        -207179.7121632, -207179.7121632, -207179.7121632, -207179.7121632]),\n",
       " ('MT19937', array([3989581865, 2161644968, 1477817563, 3790654216, 2556588676,\n",
       "          774789513, 1612367679, 1166498957, 1010473386, 1725308222,\n",
       "         1405345982, 1564231138, 1095203461, 2775794031, 2614624391,\n",
       "          698702480, 2469212722, 2737704843, 3140666832, 3810402781,\n",
       "           31480637, 1446056449,  613150534, 4107795353, 3632516680,\n",
       "         2687644130, 3558114581, 2813306189, 3912151186, 3089652882,\n",
       "         3586253844,   38419145, 3709861530, 2981856857, 3777735183,\n",
       "         1536712929, 3103825285, 3194196438, 1380708480,  924942000,\n",
       "         3544237391,  978951666, 3288859164, 1227686541, 1057524214,\n",
       "         3446516458, 1314789912, 2833917686, 3168379444, 3462186697,\n",
       "         2411043892, 2006679063,  699069898, 1343906549,  971150391,\n",
       "         1405168694, 2295576888, 1730276045, 3938601490,  595368160,\n",
       "          451636733, 1158863496, 3751457823, 3175203014, 1302942347,\n",
       "         1570990628, 2292957909, 2665665387,  939070283, 4268610727,\n",
       "         3519239558, 3000774013, 1392430259, 1922204049, 1782965490,\n",
       "         1651240127,  653343263, 3919491714, 3843414697,  823260399,\n",
       "         1932487812, 3397911302, 2309817520,  962802326, 2122464515,\n",
       "         2401176182, 3170008414, 3051126904,  361126089, 2241845390,\n",
       "         4047903014,  431062070, 2295609167, 3520421600, 1614329949,\n",
       "         3025447643, 2069802457, 3227422744, 3165360053, 3650733966,\n",
       "          939291595, 1180201152, 2089691534,  871894217, 3188278745,\n",
       "         4167307718, 4189851801, 1402850974, 1587421179, 1835931204,\n",
       "         2354329342, 1725916500,  719272928, 3363625674, 3701885425,\n",
       "         3861711436, 2756005439,   28695581, 2530605712,  827957382,\n",
       "         3105472928, 3759441142, 2139394201, 2940549749, 3110663863,\n",
       "          117802812,  320174909, 3987092336, 3126309568,  796338719,\n",
       "          906858903, 2706294513, 3364537955,  136379832, 3100607617,\n",
       "         1090641972,    3118168, 1262222092, 1707523977, 1503968767,\n",
       "         1056485546, 1394338035,   84044821, 2477521666, 4132429819,\n",
       "         3090528794,  354139207, 3101561906,  915814902,  146416915,\n",
       "         3046869852, 1260172170,  996444814, 1816679392, 2619960331,\n",
       "         2902135488, 1844040179, 1835201384,    9848908, 3109712429,\n",
       "         4193073543,  994751932, 4096660580,  773557693, 1920437741,\n",
       "          368524279, 3788978918, 2216928609, 1352500639, 2842521429,\n",
       "         1731913874, 3701648832,  353978765, 1086649005, 2214638938,\n",
       "          218333671, 3304216237, 1913286540, 2703083754, 3279686112,\n",
       "         1523000952, 2565123250, 2397078429,  169517240,  216446272,\n",
       "         3315825743, 1998531774, 2547033079, 3692909929, 4208466623,\n",
       "          303855319,  788610816, 2006896505, 2238835304, 4143310144,\n",
       "         2323092415, 2436792150, 3320463518, 2561334573, 1713870371,\n",
       "         1186690584,  376100039, 3383307990,  739296003, 2026563529,\n",
       "         2024042057, 2950600994, 1570912040, 3558804372, 3731743386,\n",
       "          679485678, 3636500141, 3613886806,  771283963, 3410360524,\n",
       "           34123333,  227614961, 1742476059,  500144683, 2815616095,\n",
       "         3736344734, 3186277344, 2883205188, 1053280998, 3196901696,\n",
       "          708625823, 1151916608,  156243138, 1175015192,  659157812,\n",
       "         1588334719, 1451072773,  934592447, 2821691368, 1610568048,\n",
       "         1406831215, 3281575765, 1460502863, 2336357795, 2085210385,\n",
       "         2319730105, 3009430788, 1108014456, 2741327823, 3495114722,\n",
       "         4125388412, 3476479956, 1418849163, 3994628564, 3188590635,\n",
       "          566893704,  904796918, 2992533958, 2575958049, 3482232879,\n",
       "          459883719, 2578809887, 1656092880, 3530594102, 3613168473,\n",
       "         3334492112,  695672174, 2429339731,  152100300, 1539169982,\n",
       "         3631682512, 1750728999, 3953532566, 2703383918, 2482580521,\n",
       "         1964764145,  912547935,   86976324, 3411559342,  647990277,\n",
       "         1690697670, 1349371039, 1258217862, 1385721830, 2468947728,\n",
       "         2387801471,  516288461,  889185905, 2275716808, 4001652365,\n",
       "         2443678185, 3777368307,  106772315,  447616988, 4224588702,\n",
       "         2339695801, 1500165778, 2476671876, 1350142645, 2369259094,\n",
       "         3834547825,  473679091,  742292552, 1081666410, 1074299075,\n",
       "         2605293319, 3641768581, 3842692974, 1907152100, 2027968912,\n",
       "         3670407660, 3811644126,  540663060, 1970643524,  460621111,\n",
       "         4126712106,  327894955, 2151424072, 1315606000, 2971743139,\n",
       "         3031671894,  122576582, 2544264120,  524377337, 1009649060,\n",
       "         3313565329,  152849102,  823776035, 2880222816, 1400623800,\n",
       "         3905508074, 3732167218, 1272751389, 3829611448,  910599192,\n",
       "         2402210671, 2454863757, 2257366404, 3546081054, 1618348709,\n",
       "         2216361887, 1708542433, 1406426113,  744901944, 2995084734,\n",
       "          254714140,  309455320, 3602166452,  568406981, 2944581026,\n",
       "         1938906311,  625250905,  106668153, 2798624943, 2465830250,\n",
       "          854483873, 1718149016, 1381879359, 2790491472, 2627313922,\n",
       "         3828636477, 3085351147, 2296443301, 3367952180, 2270368408,\n",
       "         3287819678, 1760545547,  826973054, 1886000126, 3012295068,\n",
       "         2649529186, 3676536191, 4095726820, 3780267465, 2163228320,\n",
       "         1035540533, 3098493491, 2538741389, 1055971818,  277898063,\n",
       "         2422869753, 1154043283, 3111867048, 3199093141,  681305594,\n",
       "         1299071055, 3518381721, 1309601687,  742717890, 2974159154,\n",
       "         1537371959,  477912346,  243273506, 1931598908, 1450139227,\n",
       "          239057845, 1220109865,   73183679, 2179376740,  307012538,\n",
       "         2375017529, 2854096365, 1479767864, 2543403230,  251252333,\n",
       "         1549240287, 3729977638, 3890637464, 2127893527,  811716372,\n",
       "         4118371608, 1119626003, 1438157384, 1142697764, 2219391563,\n",
       "         4058781551, 2592350658, 3910136019, 2069210506,  841447759,\n",
       "         1031876381, 3269456764, 4234790131, 1508839986, 4121024712,\n",
       "         2135817088, 4158139229,  652666780,  406899609, 2644121431,\n",
       "         3118542453,  546500840, 3319738873,  827479937, 1575387356,\n",
       "         1627991058, 2314424940, 1895446315, 2565480547,   86363425,\n",
       "         1654689435, 2405052801, 3948957595, 2484442804,  123190072,\n",
       "           96074078, 3968080555, 1685102368,  934128471, 1471696240,\n",
       "         1245617936, 2541357145, 3346791088, 3054969919, 3633951063,\n",
       "          779542965, 1177363104, 2103990030, 3273022181, 3281887358,\n",
       "         2424357620, 2595780640, 4257262502, 3290287437, 4061276474,\n",
       "          378912250, 3434444285, 2510891268, 2008373526, 1605526349,\n",
       "         3708668216,  182811608,  212859094, 1055579429, 1576224009,\n",
       "         2089267757, 3686359164, 3978404029, 2674508711, 2366612578,\n",
       "         3951243543, 1382603354, 2171802674, 4115506192,  705086675,\n",
       "          103125190,  898543622, 2791634664, 3199870416, 3768545832,\n",
       "         1873463095,  675624052, 3656055353, 3475756369, 3378467019,\n",
       "         1539374855,  603496129, 1623238931,  541064790, 2432820168,\n",
       "          746558055, 2828663596, 1583872485,  828294505, 3229126745,\n",
       "         1634016057, 3868608403, 2859571666, 1165847200, 2263003645,\n",
       "         1084607756, 2901146214, 2113601288,  343598937, 3616977404,\n",
       "          908557270, 2162935173,  851466341, 3294673610, 2461054348,\n",
       "           26912027, 1525409524, 2157355597, 2693874492, 3104020481,\n",
       "         1881609634, 2846355592, 1057507398, 2175473025, 3170176404,\n",
       "         3806759673, 2695991456, 2523026377, 2345265573, 2384189936,\n",
       "         2880261623,  521029207, 3660036713,  219832519,  353975601,\n",
       "         2642737831,  730115112, 4183388126, 2428912722, 3095157097,\n",
       "          908227217, 3041421746,  327465782, 3146836938,  517271469,\n",
       "         2139344777, 1151486437, 3097592923,  254085866, 2447091362,\n",
       "         2296828623, 1827575029, 3118052143,  825433783, 2398064761,\n",
       "           23967443, 2486115555, 2966985298, 3863161142, 1012378249,\n",
       "         1857922850, 2725203538, 3041361726, 2592627781, 1037857469,\n",
       "         1964964514,  209717919, 1068051662, 2614988397, 1838690260,\n",
       "         2807583663, 3926201431, 2101102190,  182612850, 1493518086,\n",
       "         2568701577,  155270512, 1965735914,  106657974, 2842155247,\n",
       "         1128423529, 2946438034, 3982371968,  493818583, 1203370401,\n",
       "         1255374638, 1258098374, 2487408796, 3412453350, 1793973654,\n",
       "         3916397570, 4209201236, 2205326174,  259485681, 2602323226,\n",
       "          125431124, 3070093935, 3260338024,  636645048,  835203796,\n",
       "           10111325, 1983034970, 2746719005,  395731979, 1025090495,\n",
       "          816965432, 3893083579, 3733440691, 3663149011, 2241510444,\n",
       "         3779267892, 3624596534, 1168278492, 1940419913, 3387030117,\n",
       "          134340803, 1585404674, 2199766867, 3691997552, 3628329105,\n",
       "          168850104, 2278975706, 2080490611,   99656998], dtype=uint32), 154, 0, 0.0))"
      ]
     },
     "execution_count": 102,
     "metadata": {},
     "output_type": "execute_result"
    }
   ],
   "source": [
    "sampler.run_mcmc(p0, 5)"
   ]
  },
  {
   "cell_type": "code",
   "execution_count": 97,
   "metadata": {
    "collapsed": true
   },
   "outputs": [],
   "source": [
    "samples = sampler.chain[:, 20:, :].reshape((-1, ndim))"
   ]
  },
  {
   "cell_type": "code",
   "execution_count": 103,
   "metadata": {},
   "outputs": [
    {
     "ename": "AssertionError",
     "evalue": "I don't believe that you want more dimensions than samples!",
     "output_type": "error",
     "traceback": [
      "\u001b[0;31m---------------------------------------------------------------------------\u001b[0m",
      "\u001b[0;31mAssertionError\u001b[0m                            Traceback (most recent call last)",
      "\u001b[0;32m<ipython-input-103-aa935a9115d1>\u001b[0m in \u001b[0;36m<module>\u001b[0;34m()\u001b[0m\n\u001b[1;32m      1\u001b[0m \u001b[0;32mimport\u001b[0m \u001b[0mcorner\u001b[0m\u001b[0;34m\u001b[0m\u001b[0m\n\u001b[0;32m----> 2\u001b[0;31m \u001b[0mfig\u001b[0m \u001b[0;34m=\u001b[0m \u001b[0mcorner\u001b[0m\u001b[0;34m.\u001b[0m\u001b[0mcorner\u001b[0m\u001b[0;34m(\u001b[0m\u001b[0msamples\u001b[0m\u001b[0;34m,\u001b[0m \u001b[0mlabels\u001b[0m\u001b[0;34m=\u001b[0m\u001b[0;34m[\u001b[0m\u001b[0;34m\"$p$\"\u001b[0m\u001b[0;34m,\u001b[0m \u001b[0;34m\"$t_0$\"\u001b[0m\u001b[0;34m,\u001b[0m \u001b[0;34m\"$tau$\"\u001b[0m\u001b[0;34m]\u001b[0m\u001b[0;34m)\u001b[0m\u001b[0;34m\u001b[0m\u001b[0m\n\u001b[0m\u001b[1;32m      3\u001b[0m \u001b[0mfig\u001b[0m\u001b[0;34m.\u001b[0m\u001b[0mshow\u001b[0m\u001b[0;34m(\u001b[0m\u001b[0;34m)\u001b[0m\u001b[0;34m\u001b[0m\u001b[0m\n",
      "\u001b[0;32m~/corner.py\u001b[0m in \u001b[0;36mcorner\u001b[0;34m(xs, bins, range, weights, color, smooth, smooth1d, labels, label_kwargs, show_titles, title_fmt, title_kwargs, truths, truth_color, scale_hist, quantiles, verbose, fig, max_n_ticks, top_ticks, use_math_text, reverse, hist_kwargs, **hist2d_kwargs)\u001b[0m\n\u001b[1;32m    149\u001b[0m         \u001b[0;32massert\u001b[0m \u001b[0mlen\u001b[0m\u001b[0;34m(\u001b[0m\u001b[0mxs\u001b[0m\u001b[0;34m.\u001b[0m\u001b[0mshape\u001b[0m\u001b[0;34m)\u001b[0m \u001b[0;34m==\u001b[0m \u001b[0;36m2\u001b[0m\u001b[0;34m,\u001b[0m \u001b[0;34m\"The input sample array must be 1- or 2-D.\"\u001b[0m\u001b[0;34m\u001b[0m\u001b[0m\n\u001b[1;32m    150\u001b[0m         \u001b[0mxs\u001b[0m \u001b[0;34m=\u001b[0m \u001b[0mxs\u001b[0m\u001b[0;34m.\u001b[0m\u001b[0mT\u001b[0m\u001b[0;34m\u001b[0m\u001b[0m\n\u001b[0;32m--> 151\u001b[0;31m     \u001b[0;32massert\u001b[0m \u001b[0mxs\u001b[0m\u001b[0;34m.\u001b[0m\u001b[0mshape\u001b[0m\u001b[0;34m[\u001b[0m\u001b[0;36m0\u001b[0m\u001b[0;34m]\u001b[0m \u001b[0;34m<=\u001b[0m \u001b[0mxs\u001b[0m\u001b[0;34m.\u001b[0m\u001b[0mshape\u001b[0m\u001b[0;34m[\u001b[0m\u001b[0;36m1\u001b[0m\u001b[0;34m]\u001b[0m\u001b[0;34m,\u001b[0m \u001b[0;34m\"I don't believe that you want more \"\u001b[0m\u001b[0;31m \u001b[0m\u001b[0;31m\\\u001b[0m\u001b[0;34m\u001b[0m\u001b[0m\n\u001b[0m\u001b[1;32m    152\u001b[0m                                        \u001b[0;34m\"dimensions than samples!\"\u001b[0m\u001b[0;34m\u001b[0m\u001b[0m\n\u001b[1;32m    153\u001b[0m \u001b[0;34m\u001b[0m\u001b[0m\n",
      "\u001b[0;31mAssertionError\u001b[0m: I don't believe that you want more dimensions than samples!"
     ]
    }
   ],
   "source": [
    "import corner\n",
    "fig = corner.corner(samples, labels=[\"$p$\", \"$t_0$\", \"$tau$\"])\n",
    "fig.show()"
   ]
  },
  {
   "cell_type": "code",
   "execution_count": null,
   "metadata": {
    "collapsed": true
   },
   "outputs": [],
   "source": []
  }
 ],
 "metadata": {
  "kernelspec": {
   "display_name": "Python 3",
   "language": "python",
   "name": "python3"
  },
  "language_info": {
   "codemirror_mode": {
    "name": "ipython",
    "version": 3
   },
   "file_extension": ".py",
   "mimetype": "text/x-python",
   "name": "python",
   "nbconvert_exporter": "python",
   "pygments_lexer": "ipython3",
   "version": "3.6.3"
  }
 },
 "nbformat": 4,
 "nbformat_minor": 2
}
