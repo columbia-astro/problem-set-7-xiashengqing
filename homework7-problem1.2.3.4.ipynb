{
 "cells": [
  {
   "cell_type": "code",
   "execution_count": 1,
   "metadata": {
    "collapsed": true
   },
   "outputs": [],
   "source": [
    "import math\n",
    "import numpy as np\n",
    "import kplr\n",
    "\n",
    "# Find the target KOI.\n",
    "client = kplr.API()\n",
    "koi = client.koi(97.01)\n",
    "\n",
    "# Get a list of light curve datasets.\n",
    "lcs = koi.get_light_curves(short_cadence=False)\n",
    "\n",
    "# Open the first dataset and read it\n",
    "f = lcs[0].open()\n",
    "hdu_data = f[1].data\n",
    "time = hdu_data[\"time\"]  # get the time of each observation\n",
    "flux = hdu_data[\"sap_flux\"] # get the flux\n",
    "flux_err = hdu_data[\"sap_flux_err\"] # get the error in the flux\n",
    "f.close()"
   ]
  },
  {
   "cell_type": "markdown",
   "metadata": {},
   "source": [
    "# Problem 1"
   ]
  },
  {
   "cell_type": "code",
   "execution_count": 2,
   "metadata": {
    "collapsed": true
   },
   "outputs": [],
   "source": [
    "index = np.where((time > 124) & (time < 125))\n",
    "time_obs = time[index]\n",
    "flux_obs = flux[index]\n",
    "flux_err_obs = flux_err[index]"
   ]
  },
  {
   "cell_type": "code",
   "execution_count": 3,
   "metadata": {
    "collapsed": true
   },
   "outputs": [],
   "source": [
    "import numpy as np\n",
    "def function_F(flux):\n",
    "    flux_selected=[]\n",
    "    avg = np.mean(flux)\n",
    "    std = np.std(flux)\n",
    "    for i in range(0,len(flux),1):\n",
    "        if(abs(flux[i]-avg)/std<=2):\n",
    "            flux_selected.append(flux[i])\n",
    "    return flux_selected\n",
    "\n",
    "\n",
    "flux=flux_obs\n",
    "for i in range(1,8,1):\n",
    "    flux=function_F(flux)\n",
    "flux_mean=sum(flux)/len(flux)\n",
    "flux=flux_obs/flux_mean\n",
    "error=flux_err_obs/flux_mean\n",
    "\n",
    "# guess of z, using t0=124.51, tao=0.1, p=0.0775\n",
    "t0=124.51\n",
    "tao=0.1\n",
    "z=(time_obs-t0)/tao"
   ]
  },
  {
   "cell_type": "code",
   "execution_count": 4,
   "metadata": {
    "collapsed": true
   },
   "outputs": [],
   "source": [
    "import math as m\n",
    "import numpy as np\n",
    "def integrator1(a,b,N,z,p):\n",
    "    deltax=(b-a)/N\n",
    "    xi=a\n",
    "    i=0\n",
    "    sum=0\n",
    "    while(i<=N-1):\n",
    "        xi=a+i*deltax\n",
    "        sum=sum+deltax*func1(xi,p,z)\n",
    "        i=i+1\n",
    "    return sum\n",
    "\n",
    "def integratorgeneral(a,b,N,z,p):\n",
    "    deltax=(b-a)/N\n",
    "    xi=a\n",
    "    i=0\n",
    "    sum=0\n",
    "    while(i<=N-1):\n",
    "        xi=a+i*deltax\n",
    "        sum=sum+deltax*func2(xi,p,z)\n",
    "        i=i+1\n",
    "    return sum\n",
    "\n",
    "\n",
    "\n",
    "def F_function(z,p,N):\n",
    "    F1=integrator1(0,1,N,z,p)\n",
    "    F2=integratorgeneral(0,1,N,z,p)\n",
    "    return F1/F2\n",
    "\n",
    "import my_transit\n",
    "\n",
    "def I(r):\n",
    "    '''A Limb-darkening function'''\n",
    "    mu = (1 - (r**2))**(0.5)\n",
    "    return 1 - (1 - (mu**(0.5)))\n",
    "\n",
    "def func1(r, p, z):\n",
    "    return I(r) * (1 - my_transit.delta(p,r,abs(z))) * 2 * r\n",
    "\n",
    "def func2(r, p, z):\n",
    "    return I(r) * 2 * r\n",
    "\n",
    "\n",
    "# Find an eclipse shape use p=0.0775\n",
    "F_estimated=[]\n",
    "for i in range(0,len(flux),1):\n",
    "    F_estimated.append(F_function(abs(z[i]),0.0775,1000))"
   ]
  },
  {
   "cell_type": "code",
   "execution_count": 5,
   "metadata": {},
   "outputs": [
    {
     "data": {
      "image/png": "[encoded data removed]",
      "text/plain": [
       "<matplotlib.figure.Figure at 0x10f6cf0f0>"
      ]
     },
     "metadata": {},
     "output_type": "display_data"
    },
    {
     "name": "stdout",
     "output_type": "stream",
     "text": [
      "It is a good fit.\n"
     ]
    }
   ],
   "source": [
    "import matplotlib.pyplot as plt\n",
    "p1=plt.scatter(z,flux,marker='x',color='g',label='1',s=30) \n",
    "p2=plt.scatter(z,F_estimated,marker='.',color='r',label='1',s=30) \n",
    "plt.ylim(0.9885,1.0006)\n",
    "plt.legend([p1,p2],['Original data','Estimators'])\n",
    "plt.xlabel('z')  \n",
    "plt.ylabel('Flux')\n",
    "plt.show()\n",
    "print(\"It is a good fit.\")"
   ]
  },
  {
   "cell_type": "code",
   "execution_count": 6,
   "metadata": {
    "collapsed": true
   },
   "outputs": [],
   "source": [
    "#compute X square\n",
    "x_square=0\n",
    "for i in range(0,len(flux),1):\n",
    "    x_square=x_square+((flux[i]-F_estimated[i])/error[i])**2"
   ]
  },
  {
   "cell_type": "code",
   "execution_count": 7,
   "metadata": {},
   "outputs": [
    {
     "name": "stdout",
     "output_type": "stream",
     "text": [
      "X square= 464.170373532\n"
     ]
    }
   ],
   "source": [
    "print(\"X square=\",x_square)"
   ]
  },
  {
   "cell_type": "markdown",
   "metadata": {},
   "source": [
    "# Problem 2"
   ]
  },
  {
   "cell_type": "code",
   "execution_count": 8,
   "metadata": {},
   "outputs": [
    {
     "name": "stdout",
     "output_type": "stream",
     "text": [
      "Q= [  1.75064678e-70   1.48683023e-73]\n",
      "since p-value is too low, it is not a good fit.\n"
     ]
    }
   ],
   "source": [
    "from scipy.special import gamma\n",
    "import numpy as np\n",
    "from scipy.integrate import quad,dblquad,nquad\n",
    "N=len(flux)\n",
    "M=3\n",
    "v=N-M #degrees of freedom\n",
    "print('Q=',quad(lambda  x:np.exp(-x)*x**(v/2-1),x_square/2,np.inf)/gamma(v/2))\n",
    "print(\"since p-value is too low, it is not a good fit.\")"
   ]
  },
  {
   "cell_type": "markdown",
   "metadata": {},
   "source": [
    "# Problem 3"
   ]
  },
  {
   "cell_type": "code",
   "execution_count": 9,
   "metadata": {
    "collapsed": true
   },
   "outputs": [],
   "source": [
    "#vary tao\n",
    "tao=0.08\n",
    "t0=124.51\n",
    "x_squarelist=[]\n",
    "tao_list=[]\n",
    "while tao<0.13:\n",
    "    tao_list.append(tao)\n",
    "    z=(time_obs-t0)/tao\n",
    "    F_estimated=[]\n",
    "    for i in range(0,len(flux),1):\n",
    "        F_estimated.append(F_function(abs(z[i]),0.0775,1000))\n",
    "    x_square=0\n",
    "    for i in range(0,len(flux),1):\n",
    "        x_square=x_square+((flux[i]-F_estimated[i])/error[i])**2\n",
    "    x_squarelist.append(x_square)\n",
    "    tao=tao+0.001    "
   ]
  },
  {
   "cell_type": "code",
   "execution_count": 10,
   "metadata": {},
   "outputs": [
    {
     "data": {
      "image/png": "[encoded data removed]",
      "text/plain": [
       "<matplotlib.figure.Figure at 0x1418e0bac8>"
      ]
     },
     "metadata": {},
     "output_type": "display_data"
    }
   ],
   "source": [
    "p1=plt.scatter(tao_list,x_squarelist,marker='.',color='c',label='1',s=30) \n",
    "plt.xlabel('tao')  \n",
    "plt.ylabel('x_square')\n",
    "plt.show()"
   ]
  },
  {
   "cell_type": "code",
   "execution_count": 11,
   "metadata": {
    "collapsed": true
   },
   "outputs": [],
   "source": [
    "minval=np.min(x_squarelist)\n",
    "index=np.where(x_squarelist==minval)"
   ]
  },
  {
   "cell_type": "code",
   "execution_count": 12,
   "metadata": {},
   "outputs": [
    {
     "data": {
      "text/plain": [
       "(array([17]),)"
      ]
     },
     "execution_count": 12,
     "metadata": {},
     "output_type": "execute_result"
    }
   ],
   "source": [
    "index"
   ]
  },
  {
   "cell_type": "code",
   "execution_count": 13,
   "metadata": {},
   "outputs": [
    {
     "name": "stdout",
     "output_type": "stream",
     "text": [
      "minimum x square= 245.082238281 tao= 0.09700000000000002\n"
     ]
    }
   ],
   "source": [
    "print('minimum x square=',x_squarelist[17],'tao=',tao_list[17])"
   ]
  },
  {
   "cell_type": "code",
   "execution_count": 14,
   "metadata": {
    "collapsed": true
   },
   "outputs": [],
   "source": [
    "#plot for tao=0.097\n",
    "t0=124.51\n",
    "z=(time_obs-t0)/0.097\n",
    "# Find an eclipse shape use p=0.0775\n",
    "F_estimated=[]\n",
    "for i in range(0,len(flux),1):\n",
    "    F_estimated.append(F_function(abs(z[i]),0.0775,1000))"
   ]
  },
  {
   "cell_type": "code",
   "execution_count": 15,
   "metadata": {},
   "outputs": [
    {
     "data": {
      "image/png": "[encoded data removed]",
      "text/plain": [
       "<matplotlib.figure.Figure at 0x1518e67198>"
      ]
     },
     "metadata": {},
     "output_type": "display_data"
    }
   ],
   "source": [
    "p1=plt.scatter(z,flux,marker='x',color='g',label='1',s=30) \n",
    "p2=plt.scatter(z,F_estimated,marker='.',color='r',label='1',s=30) \n",
    "plt.ylim(0.9885,1.0006)\n",
    "plt.legend([p1,p2],['Original data','Estimators'])\n",
    "plt.xlabel('z')  \n",
    "plt.ylabel('Flux')\n",
    "plt.title('plot for tao=0.097') \n",
    "plt.show()"
   ]
  },
  {
   "cell_type": "code",
   "execution_count": 16,
   "metadata": {},
   "outputs": [
    {
     "name": "stdout",
     "output_type": "stream",
     "text": [
      "Q(tao=0.097)= [  5.72161036e-29   8.49177109e-31]\n",
      "since p-value is too low, it is not a good fit.\n"
     ]
    }
   ],
   "source": [
    "print('Q(tao=0.097)=',quad(lambda  x:np.exp(-x)*x**(v/2-1),x_squarelist[17]/2,np.inf)/gamma(v/2))\n",
    "print(\"since p-value is too low, it is not a good fit.\")"
   ]
  },
  {
   "cell_type": "code",
   "execution_count": 17,
   "metadata": {
    "collapsed": true
   },
   "outputs": [],
   "source": [
    "tao=0.0965\n",
    "t0=124.51\n",
    "x_squarelist2=[]\n",
    "tao_list2=[]\n",
    "while tao<0.0975:\n",
    "    tao_list2.append(tao)\n",
    "    z=(time_obs-t0)/tao\n",
    "    F_estimated2=[]\n",
    "    for i in range(0,len(flux),1):\n",
    "        F_estimated2.append(F_function(abs(z[i]),0.0775,1000))\n",
    "    x_square=0\n",
    "    for i in range(0,len(flux),1):\n",
    "        x_square=x_square+((flux[i]-F_estimated2[i])/error[i])**2\n",
    "    x_squarelist2.append(x_square)\n",
    "    tao=tao+0.00002   "
   ]
  },
  {
   "cell_type": "code",
   "execution_count": 18,
   "metadata": {},
   "outputs": [
    {
     "data": {
      "image/png": "[encoded data removed]",
      "text/plain": [
       "<matplotlib.figure.Figure at 0x1518f482e8>"
      ]
     },
     "metadata": {},
     "output_type": "display_data"
    }
   ],
   "source": [
    "p1=plt.scatter(tao_list2,x_squarelist2,marker='.',color='g',label='1',s=30) \n",
    "plt.xlabel('tao')  \n",
    "plt.ylabel('x_square')\n",
    "x=np.arange(0.092,0.102,0.0002)\n",
    "y=x_squarelist[17]+1+x*0\n",
    "p2=plt.plot(x,y,color='r')\n",
    "plt.show()"
   ]
  },
  {
   "cell_type": "code",
   "execution_count": 19,
   "metadata": {
    "collapsed": true
   },
   "outputs": [],
   "source": [
    "index = np.where(x_squarelist2 < x_squarelist[17]+1)"
   ]
  },
  {
   "cell_type": "code",
   "execution_count": 20,
   "metadata": {},
   "outputs": [
    {
     "data": {
      "text/plain": [
       "(array([10, 11, 12, 13, 14, 15, 16, 17, 18, 19, 20, 21, 22, 23, 24, 25, 26,\n",
       "        27, 28, 29, 30, 31]),)"
      ]
     },
     "execution_count": 20,
     "metadata": {},
     "output_type": "execute_result"
    }
   ],
   "source": [
    "index"
   ]
  },
  {
   "cell_type": "code",
   "execution_count": 21,
   "metadata": {},
   "outputs": [
    {
     "name": "stdout",
     "output_type": "stream",
     "text": [
      "one-sigma uncertainty= 0.0004200000000001286\n"
     ]
    }
   ],
   "source": [
    "uncertainty=tao_list2[31]-tao_list2[10]\n",
    "print(\"one-sigma uncertainty=\",uncertainty)"
   ]
  },
  {
   "cell_type": "markdown",
   "metadata": {},
   "source": [
    "# Problem 4"
   ]
  },
  {
   "cell_type": "code",
   "execution_count": 63,
   "metadata": {
    "collapsed": true
   },
   "outputs": [],
   "source": [
    "import emcee\n",
    "import numpy as np\n",
    "import matplotlib.pyplot as plt"
   ]
  },
  {
   "cell_type": "code",
   "execution_count": 64,
   "metadata": {
    "collapsed": true
   },
   "outputs": [],
   "source": [
    "def xquare(p,t0,tao):\n",
    "    z=(time_obs-t0)/tao\n",
    "    F_estimated=[]\n",
    "    for i in range(0,len(flux),1):\n",
    "        F_estimated.append(F_function(abs(z[i]),p,1000))\n",
    "    x_square=0\n",
    "    for i in range(0,len(flux),1):\n",
    "        x_square=x_square+((flux[i]-F_estimated[i])/error[i])**2\n",
    "    return x_square"
   ]
  },
  {
   "cell_type": "code",
   "execution_count": 65,
   "metadata": {},
   "outputs": [],
   "source": [
    "def lnprob(x):\n",
    "    p,t0,tao=x\n",
    "    return -0.5 * xquare(p,t0,tao)\n",
    "\n",
    "ndim, nwalkers = 3, 50"
   ]
  },
  {
   "cell_type": "code",
   "execution_count": 66,
   "metadata": {},
   "outputs": [],
   "source": [
    "start_guess = np.array([0.07,124.5,0.1])\n",
    "p0 = [start_guess + 1.0e-3*np.random.rand(ndim) for i in range(nwalkers)]"
   ]
  },
  {
   "cell_type": "code",
   "execution_count": 67,
   "metadata": {},
   "outputs": [],
   "source": [
    "sampler = emcee.EnsembleSampler(nwalkers, ndim, lnprob)"
   ]
  },
  {
   "cell_type": "code",
   "execution_count": 68,
   "metadata": {},
   "outputs": [
    {
     "data": {
      "text/plain": [
       "(array([[  7.72469186e-02,   1.24505089e+02,   1.01171580e-01],\n",
       "        [  7.72683901e-02,   1.24505466e+02,   1.01440881e-01],\n",
       "        [  7.74181495e-02,   1.24505491e+02,   1.01197339e-01],\n",
       "        [  7.69475725e-02,   1.24504863e+02,   1.01119070e-01],\n",
       "        [  7.69949698e-02,   1.24505019e+02,   1.01131340e-01],\n",
       "        [  7.71810748e-02,   1.24505405e+02,   1.01202797e-01],\n",
       "        [  7.72983839e-02,   1.24505506e+02,   1.00911450e-01],\n",
       "        [  7.72206906e-02,   1.24505146e+02,   1.01078505e-01],\n",
       "        [  7.70241534e-02,   1.24505297e+02,   1.01085786e-01],\n",
       "        [  7.70666869e-02,   1.24505499e+02,   1.01039230e-01],\n",
       "        [  7.71324676e-02,   1.24505256e+02,   1.00703355e-01],\n",
       "        [  7.70948796e-02,   1.24505439e+02,   1.01238169e-01],\n",
       "        [  7.71203541e-02,   1.24505634e+02,   1.01098101e-01],\n",
       "        [  7.73305424e-02,   1.24505395e+02,   1.00936448e-01],\n",
       "        [  7.74687781e-02,   1.24505190e+02,   1.01089048e-01],\n",
       "        [  7.72060687e-02,   1.24505522e+02,   1.01024496e-01],\n",
       "        [  7.70681544e-02,   1.24505287e+02,   1.01209270e-01],\n",
       "        [  7.73664083e-02,   1.24505160e+02,   1.01085403e-01],\n",
       "        [  7.75863822e-02,   1.24505188e+02,   1.00805234e-01],\n",
       "        [  7.74851466e-02,   1.24505168e+02,   1.01151581e-01],\n",
       "        [  7.69566266e-02,   1.24505375e+02,   1.00901590e-01],\n",
       "        [  7.74926444e-02,   1.24505175e+02,   1.01072607e-01],\n",
       "        [  7.71113328e-02,   1.24505216e+02,   1.01037246e-01],\n",
       "        [  7.69001598e-02,   1.24505490e+02,   1.01171870e-01],\n",
       "        [  7.67850627e-02,   1.24504978e+02,   1.01260214e-01],\n",
       "        [  7.73549543e-02,   1.24505173e+02,   1.01275750e-01],\n",
       "        [  7.71048466e-02,   1.24505506e+02,   1.01052287e-01],\n",
       "        [  7.71907188e-02,   1.24504957e+02,   1.01200209e-01],\n",
       "        [  7.68685638e-02,   1.24505120e+02,   1.01298632e-01],\n",
       "        [  7.72617662e-02,   1.24505548e+02,   1.00647781e-01],\n",
       "        [  7.73421379e-02,   1.24504970e+02,   1.01240843e-01],\n",
       "        [  7.72348924e-02,   1.24505197e+02,   1.00877126e-01],\n",
       "        [  7.70952820e-02,   1.24505198e+02,   1.01256258e-01],\n",
       "        [  7.69566786e-02,   1.24505217e+02,   1.01161659e-01],\n",
       "        [  7.70868997e-02,   1.24505209e+02,   1.01310440e-01],\n",
       "        [  7.71029052e-02,   1.24505375e+02,   1.01222672e-01],\n",
       "        [  7.72926908e-02,   1.24505249e+02,   1.00978849e-01],\n",
       "        [  7.71076246e-02,   1.24505287e+02,   1.01164445e-01],\n",
       "        [  7.73090417e-02,   1.24505171e+02,   1.01274005e-01],\n",
       "        [  7.72211399e-02,   1.24505442e+02,   1.01000765e-01],\n",
       "        [  7.72676741e-02,   1.24505150e+02,   1.01523748e-01],\n",
       "        [  7.71922695e-02,   1.24505180e+02,   1.01370099e-01],\n",
       "        [  7.71146014e-02,   1.24505335e+02,   1.00913473e-01],\n",
       "        [  7.72397550e-02,   1.24505248e+02,   1.01217910e-01],\n",
       "        [  7.69039769e-02,   1.24505359e+02,   1.01376785e-01],\n",
       "        [  7.70200195e-02,   1.24504805e+02,   1.00983441e-01],\n",
       "        [  7.71957641e-02,   1.24505309e+02,   1.01022528e-01],\n",
       "        [  7.72315572e-02,   1.24505490e+02,   1.01191604e-01],\n",
       "        [  7.70504229e-02,   1.24505294e+02,   1.01198485e-01],\n",
       "        [  7.70220650e-02,   1.24505500e+02,   1.00852883e-01]]),\n",
       " array([-26.88835305, -29.60765854, -28.91721335, -29.73788596,\n",
       "        -27.68367934, -26.96076309, -27.65846345, -26.57362705,\n",
       "        -26.88237144, -27.60372981, -28.93635197, -27.3471905 ,\n",
       "        -28.64076912, -27.3145167 , -28.00881846, -27.49628201,\n",
       "        -26.67683743, -27.09171212, -30.25344122, -28.45476288,\n",
       "        -28.31431945, -28.22387205, -26.6101182 , -28.66960228,\n",
       "        -30.16314658, -27.63089938, -27.45668604, -27.54637171,\n",
       "        -28.41521884, -29.73535624, -28.18330775, -27.19191447,\n",
       "        -26.71074495, -27.19910991, -26.90353813, -26.92659096,\n",
       "        -26.74210131, -26.51828472, -27.31279443, -27.05851103,\n",
       "        -29.33587842, -27.35105943, -27.14511451, -26.59290516,\n",
       "        -28.5139639 , -30.50390206, -26.56243424, -27.66975317,\n",
       "        -26.7277683 , -28.59450912]),\n",
       " ('MT19937', array([2306486099, 3323247076, 2434199302, 3839009384, 2536884014,\n",
       "         1578655798, 2801812230, 2368641229, 4152383017,   31951273,\n",
       "         1082206520,  988319997,  187081841, 2143212543, 2014040213,\n",
       "          815893966,  315509637, 1771320611, 2820777979, 1058184018,\n",
       "          849438816, 3171608945, 2994672979,  446141426, 4136087604,\n",
       "         3662172490,  133445264,   26693616, 2244283196, 1403955531,\n",
       "         1854520075, 2823717807, 2988087863,  570727710, 2419266511,\n",
       "         2775659631, 1296936424, 3624080807, 1216744568, 3654203900,\n",
       "         3440911290, 3511618431, 2408402176, 4173398789, 2441343467,\n",
       "         1171440125, 2326421527, 1563599101, 4240938031, 2446356903,\n",
       "         1219831196, 1560337149,  245571702, 4026843956, 4204676010,\n",
       "          137707678, 4277585878, 2822039484, 2261621695, 4208524403,\n",
       "         2293916213, 1547298016, 1534882171, 2187800306, 2305214541,\n",
       "         2778668934,  638908693, 3824519196,   43168308, 2592235497,\n",
       "         2481698355,  574722722,  703672377,  270006274,  311025312,\n",
       "         2780365553, 3199320449, 2906439037, 2977867632, 1295902262,\n",
       "          347915356, 3545132942, 3307537648, 2575496206, 1652922100,\n",
       "         4162666303, 3574541380, 2971774101, 2293059051,   51499112,\n",
       "         3786540429, 2073856846, 2719650497,  685551434,  373455240,\n",
       "         1329869887, 3126965554, 1781013776, 1285418454, 2034344322,\n",
       "         1086398868, 3997575242, 3734821369, 2778886811, 3749702982,\n",
       "         1381364154, 1168054842,   85963200,  786254660, 2879031292,\n",
       "         3651096192, 1158560685,  289238310, 3659162418, 2903566693,\n",
       "          709164996, 1320808049, 4189354066,  212598867, 1862532460,\n",
       "         1121267303, 2450365948, 3415648967,  485764551, 3585509692,\n",
       "         2689475838, 2678633058, 1507818565,  956949478, 3302017779,\n",
       "         1598803143,     599350, 1395271203, 1067426804, 3973661214,\n",
       "         2144453827, 1037870936, 2679700625, 3819670220, 2082173295,\n",
       "         2579017380, 3634606188, 3180511519, 1426987110, 3274319456,\n",
       "         1149646885,  502751478, 1624436506, 1464731926, 2016179884,\n",
       "          935529574,  963420837,  267962499, 3952362096, 2766778459,\n",
       "         3901807955, 1993359964, 3818699472, 1853903834, 4005260328,\n",
       "          970223916, 2086443032, 1292041013, 3477861526, 2881923391,\n",
       "         2487061958, 3321055722, 4251509770, 1127677369, 3631239558,\n",
       "          207814122,  395946305, 1299271239, 1733581322, 1354830344,\n",
       "         1391806541, 2746261943, 3985637008, 3283685195, 3385693811,\n",
       "         1285810430, 2503452657, 3070708295, 2398678315,   70038659,\n",
       "          647333113,  859903902, 1778996018, 2964039300, 1300674434,\n",
       "         3870296799, 1900628812, 4057489321, 3601671979, 2634090871,\n",
       "         4188657969, 3428488226, 1852700459, 3113550826, 3647317469,\n",
       "         3177109034,  263272818, 3491696631,  689862212,  963302483,\n",
       "          741768394, 1979069758, 4190956430, 3627649463, 4123027190,\n",
       "         3803697834,   69638813, 4261941930, 1404125804, 2293819022,\n",
       "         2748051691, 2852111316, 2729020008, 4062512979,  176540999,\n",
       "         2851821203, 4212740364,  637492650, 1295291345, 2993854010,\n",
       "         3654080703, 1163758157, 3854433007, 2793334895, 4278373148,\n",
       "         2483590784, 1506390734, 1865408407, 2842209861, 4236046899,\n",
       "          426422855, 1745804633, 4151200275, 3041985365, 1265487973,\n",
       "         2403339413,  721849131, 3789210101, 1098819843, 1020668728,\n",
       "         2282480648,  435745459, 1849350035, 1063626405, 2590252707,\n",
       "         3979438185,  399459292, 2682974819, 3066294547,  898159915,\n",
       "          245937476, 3851546656, 3849777117,  753885647, 1792684577,\n",
       "         1243779252,  783115156,  637884675,  784369016, 1764672903,\n",
       "         2757245782, 3774187935, 3466626907, 4193615220, 2125004315,\n",
       "         4266817732, 1718728881, 3321180998, 1108712378, 3380029344,\n",
       "          666250077,   98626835,  709282906, 3053499585, 2767084037,\n",
       "         1936125268, 1481372411, 3801579226, 2200929076,  731351870,\n",
       "          317857023, 4174855879,  804730907, 2210262062, 4270265306,\n",
       "          798936543, 3865567592, 1428206471, 4083193592, 2505613639,\n",
       "         3852191154, 3755208610, 3581638479, 1428841558,  580230163,\n",
       "         2026391647, 2136839752, 4239443672, 3393279228, 2018941423,\n",
       "         2614550169, 2499041492, 3374753737,  710474348, 4255833643,\n",
       "         1322361493, 3224637823,   50737474, 1684663223, 3711021830,\n",
       "         2201774292, 2934091390, 1888829299, 3021323554, 3252520823,\n",
       "         1871989985, 3707969537, 2275336434, 3134474341, 3010758064,\n",
       "         3307141606, 3273185389, 1262197172,  102344856, 3795851191,\n",
       "          612463876, 2287668652, 1448432398, 3191645318, 1040014492,\n",
       "         3361472816, 2273483870, 3217324768, 1722410845,  633559843,\n",
       "         1920861032,   52803396,   46727826, 1908019236, 2605470108,\n",
       "         2654162244, 3756413648,  889224136, 4134359357, 2793301288,\n",
       "          503903283, 1387472184, 1532359453, 1603547395, 3804072835,\n",
       "         3881539882, 2004742574, 1477974900, 1367780062, 3512712069,\n",
       "         1052770664, 1930684316, 3275832865,  949835819, 2296444595,\n",
       "         3609324813,  926032116, 3698228446,  107852957, 1553209620,\n",
       "          610332798, 1390215542, 3961002160,  638681417, 1091437501,\n",
       "         1869572016, 2344853964, 1063309549, 1707653798, 1352512348,\n",
       "         2393095126, 3330351455, 2436167221,   41479340, 3888376310,\n",
       "         3319173554, 3880411426, 2748243644, 1816993740, 1476963440,\n",
       "          284151025, 1908929563, 3818455197,   80313228, 1358017085,\n",
       "         3162965163, 1213484804,  858028623, 1913394173, 2367229702,\n",
       "          550058030,  132459963, 3465767806, 1668519516, 1156621435,\n",
       "         3844078795, 1431959198,  196837810, 2991632559, 4174107725,\n",
       "         1302230252, 1008627554, 3477033814, 3107074124, 3854049564,\n",
       "          840960860, 1471004365, 2219872485, 1950050830, 3070491450,\n",
       "          535200488, 3350442789, 1850677202, 1482404972, 2935416715,\n",
       "         2596921669, 1963774937, 4038774999, 2651356334,   89749755,\n",
       "          952837084, 1650973926, 1331461274, 3590106723,   64324672,\n",
       "         1142589784, 1359493598, 2391793342, 3689420095, 1665364021,\n",
       "         1758669768, 2996367570, 2238833806,  916058243, 3971851101,\n",
       "          888098799, 2015954090, 2640450273, 2331496479,  757072047,\n",
       "         3238287073, 2979019165,  495675261, 1955052699, 4031721989,\n",
       "         3943949467, 3697878744,  896174857, 3144703879,  610112094,\n",
       "         1363543736, 1696676630, 1314464674, 3142405682, 2703038042,\n",
       "          315596751,  476878404, 3629870433, 2638322129, 2677545918,\n",
       "          491943671, 2338976247,  470646625, 2839644492, 3072290861,\n",
       "         2772440568, 4230265465,  985965629, 1210785843, 1785533985,\n",
       "          529574439,  397588514, 1729983362, 4043303406, 2992432977,\n",
       "         1126709961, 2533131459, 3117037521, 1969446404, 1744091799,\n",
       "         1767927461, 1005786150,  162071336,  436320515, 1325451818,\n",
       "         2472156567, 3579875502, 2841049655,  342758485, 3750607023,\n",
       "         2733033842, 4129048133, 3491954579, 2348656325,  833663035,\n",
       "          438064569, 4125286586,  190032361, 1229998731, 2423254072,\n",
       "          780108789,  376175486, 1879177485,  272444974, 1681697032,\n",
       "         2485542357,  120003528, 2903440364, 2413909096,  475569218,\n",
       "         1280650043, 2998069553, 2018450123, 1413579582, 4026518132,\n",
       "         2307126517, 3933697736, 2058759394,  822147888, 2919403340,\n",
       "         2098909532, 3673284566, 1368541870, 4125958985, 4096660334,\n",
       "          277695393, 3287629418, 3103994110, 1828014304,  395907758,\n",
       "         3451876227, 4083161931,  251215225, 1031201685, 2883412044,\n",
       "         2712648012, 3434158590, 3243297001, 3172975364, 3590816623,\n",
       "         2626813835, 3280299033, 2211120977, 1812463165, 3701870238,\n",
       "          244010176, 4066215399, 3688617560,  664777601, 3422578055,\n",
       "         2332085310, 3609947333, 1007857845, 2203673560, 1085235258,\n",
       "         2208488468,  429087623,  998609849, 1069798107, 2469623834,\n",
       "          410524471, 3821925267, 3241070832, 2944553191, 1416694142,\n",
       "         3493068593, 3230445554, 2609887139, 3876423899, 1774689671,\n",
       "         1350398335, 1435734500, 3573835914,  932959274, 2886476148,\n",
       "         4045415483,  609355856, 2207634484, 2295452142, 3405961098,\n",
       "         2136110525,  182341098, 4120375172, 1937601859, 3594053164,\n",
       "         4005513154, 2506051799, 2538608710, 1237059545, 2875288436,\n",
       "         3103392514, 1436777628, 2893050409, 1983389875,  621113262,\n",
       "         3462163994, 3678064607, 1756035726, 2176176873,  554855034,\n",
       "         1015859484, 2151529737, 1958984618, 3499394437, 3633162644,\n",
       "         3688355200,  653691612, 1354975607,  965149185, 1296320106,\n",
       "         2274992660, 3406926590,  183502637, 2514610290], dtype=uint32), 330, 0, 0.0))"
      ]
     },
     "execution_count": 68,
     "metadata": {},
     "output_type": "execute_result"
    }
   ],
   "source": [
    "sampler.run_mcmc(p0, 500)"
   ]
  },
  {
   "cell_type": "code",
   "execution_count": 74,
   "metadata": {
    "collapsed": true
   },
   "outputs": [],
   "source": [
    "samples = sampler.chain[:, 50:, :].reshape((-1, 3))"
   ]
  },
  {
   "cell_type": "code",
   "execution_count": 75,
   "metadata": {},
   "outputs": [
    {
     "name": "stdout",
     "output_type": "stream",
     "text": [
      "Populating the interactive namespace from numpy and matplotlib\n"
     ]
    },
    {
     "name": "stderr",
     "output_type": "stream",
     "text": [
      "WARNING:root:Too few points to create valid contours\n",
      "/anaconda3/lib/python3.6/site-packages/matplotlib/figure.py:418: UserWarning: matplotlib is currently using a non-GUI backend, so cannot show the figure\n",
      "  \"matplotlib is currently using a non-GUI backend, \"\n"
     ]
    },
    {
     "data": {
      "image/png": "[encoded data removed]",
      "text/plain": [
       "<matplotlib.figure.Figure at 0x181afa13c8>"
      ]
     },
     "metadata": {},
     "output_type": "display_data"
    }
   ],
   "source": [
    "import corner\n",
    "%pylab inline\n",
    "fig = corner.corner(samples, labels=[\"$p$\", \"$t_0$\", \"$tau$\"],show_titles=True)\n",
    "fig.show()"
   ]
  }
 ],
 "metadata": {
  "kernelspec": {
   "display_name": "Python 3",
   "language": "python",
   "name": "python3"
  },
  "language_info": {
   "codemirror_mode": {
    "name": "ipython",
    "version": 3
   },
   "file_extension": ".py",
   "mimetype": "text/x-python",
   "name": "python",
   "nbconvert_exporter": "python",
   "pygments_lexer": "ipython3",
   "version": "3.6.3"
  }
 },
 "nbformat": 4,
 "nbformat_minor": 2
}
