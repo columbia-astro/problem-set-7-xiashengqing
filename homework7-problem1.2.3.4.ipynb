{
 "cells": [
  {
   "cell_type": "code",
   "execution_count": 1,
   "metadata": {
    "collapsed": true
   },
   "outputs": [],
   "source": [
    "import math\n",
    "import numpy as np\n",
    "import kplr\n",
    "\n",
    "# Find the target KOI.\n",
    "client = kplr.API()\n",
    "koi = client.koi(97.01)\n",
    "\n",
    "# Get a list of light curve datasets.\n",
    "lcs = koi.get_light_curves(short_cadence=False)\n",
    "\n",
    "# Open the first dataset and read it\n",
    "f = lcs[0].open()\n",
    "hdu_data = f[1].data\n",
    "time = hdu_data[\"time\"]  # get the time of each observation\n",
    "flux = hdu_data[\"sap_flux\"] # get the flux\n",
    "flux_err = hdu_data[\"sap_flux_err\"] # get the error in the flux\n",
    "f.close()"
   ]
  },
  {
   "cell_type": "markdown",
   "metadata": {},
   "source": [
    "# Problem 1"
   ]
  },
  {
   "cell_type": "code",
   "execution_count": 2,
   "metadata": {
    "collapsed": true
   },
   "outputs": [],
   "source": [
    "index = np.where((time > 124) & (time < 125))\n",
    "time_obs = time[index]\n",
    "flux_obs = flux[index]\n",
    "flux_err_obs = flux_err[index]"
   ]
  },
  {
   "cell_type": "code",
   "execution_count": 3,
   "metadata": {
    "collapsed": true
   },
   "outputs": [],
   "source": [
    "import numpy as np\n",
    "def function_F(flux):\n",
    "    flux_selected=[]\n",
    "    avg = np.mean(flux)\n",
    "    std = np.std(flux)\n",
    "    for i in range(0,len(flux),1):\n",
    "        if(abs(flux[i]-avg)/std<=2):\n",
    "            flux_selected.append(flux[i])\n",
    "    return flux_selected\n",
    "\n",
    "\n",
    "flux=flux_obs\n",
    "for i in range(1,8,1):\n",
    "    flux=function_F(flux)\n",
    "flux_mean=sum(flux)/len(flux)\n",
    "flux=flux_obs/flux_mean\n",
    "error=flux_err_obs/flux_mean\n",
    "\n",
    "# guess of z, using t0=124.51, tao=0.1, p=0.0775\n",
    "t0=124.51\n",
    "tao=0.1\n",
    "z=(time_obs-t0)/tao"
   ]
  },
  {
   "cell_type": "code",
   "execution_count": 4,
   "metadata": {
    "collapsed": true
   },
   "outputs": [],
   "source": [
    "import math as m\n",
    "import numpy as np\n",
    "def integrator1(a,b,N,z,p):\n",
    "    deltax=(b-a)/N\n",
    "    xi=a\n",
    "    i=0\n",
    "    sum=0\n",
    "    while(i<=N-1):\n",
    "        xi=a+i*deltax\n",
    "        sum=sum+deltax*func1(xi,p,z)\n",
    "        i=i+1\n",
    "    return sum\n",
    "\n",
    "def integratorgeneral(a,b,N,z,p):\n",
    "    deltax=(b-a)/N\n",
    "    xi=a\n",
    "    i=0\n",
    "    sum=0\n",
    "    while(i<=N-1):\n",
    "        xi=a+i*deltax\n",
    "        sum=sum+deltax*func2(xi,p,z)\n",
    "        i=i+1\n",
    "    return sum\n",
    "\n",
    "\n",
    "\n",
    "def F_function(z,p,N):\n",
    "    F1=integrator1(0,1,N,z,p)\n",
    "    F2=integratorgeneral(0,1,N,z,p)\n",
    "    return F1/F2\n",
    "\n",
    "import my_transit\n",
    "\n",
    "def I(r):\n",
    "    '''A Limb-darkening function'''\n",
    "    mu = (1 - (r**2))**(0.5)\n",
    "    return 1 - (1 - (mu**(0.5)))\n",
    "\n",
    "def func1(r, p, z):\n",
    "    return I(r) * (1 - my_transit.delta(p,r,abs(z))) * 2 * r\n",
    "\n",
    "def func2(r, p, z):\n",
    "    return I(r) * 2 * r\n",
    "\n",
    "\n",
    "# Find an eclipse shape use p=0.0775\n",
    "F_estimated=[]\n",
    "for i in range(0,len(flux),1):\n",
    "    F_estimated.append(F_function(abs(z[i]),0.0775,1000))"
   ]
  },
  {
   "cell_type": "code",
   "execution_count": 5,
   "metadata": {},
   "outputs": [
    {
     "data": {
      "image/png": "[encoded data removed]",
      "text/plain": [
       "<matplotlib.figure.Figure at 0x114760f98>"
      ]
     },
     "metadata": {},
     "output_type": "display_data"
    },
    {
     "name": "stdout",
     "output_type": "stream",
     "text": [
      "It is a good fit.\n"
     ]
    }
   ],
   "source": [
    "import matplotlib.pyplot as plt\n",
    "p1=plt.scatter(z,flux,marker='x',color='g',label='1',s=30) \n",
    "p2=plt.scatter(z,F_estimated,marker='.',color='r',label='1',s=30) \n",
    "plt.ylim(0.9885,1.0006)\n",
    "plt.legend([p1,p2],['Original data','Estimators'])\n",
    "plt.xlabel('z')  \n",
    "plt.ylabel('Flux')\n",
    "plt.show()\n",
    "print(\"It is a good fit.\")"
   ]
  },
  {
   "cell_type": "code",
   "execution_count": 6,
   "metadata": {
    "collapsed": true
   },
   "outputs": [],
   "source": [
    "#compute X square\n",
    "x_square=0\n",
    "for i in range(0,len(flux),1):\n",
    "    x_square=x_square+((flux[i]-F_estimated[i])/error[i])**2"
   ]
  },
  {
   "cell_type": "code",
   "execution_count": 7,
   "metadata": {},
   "outputs": [
    {
     "name": "stdout",
     "output_type": "stream",
     "text": [
      "X square= 464.170373532\n"
     ]
    }
   ],
   "source": [
    "print(\"X square=\",x_square)"
   ]
  },
  {
   "cell_type": "markdown",
   "metadata": {},
   "source": [
    "# Problem 2"
   ]
  },
  {
   "cell_type": "code",
   "execution_count": 8,
   "metadata": {},
   "outputs": [
    {
     "name": "stdout",
     "output_type": "stream",
     "text": [
      "Q= [  1.75064678e-70   1.48683023e-73]\n",
      "since p-value is too low, it is not a good fit.\n"
     ]
    }
   ],
   "source": [
    "from scipy.special import gamma\n",
    "import numpy as np\n",
    "from scipy.integrate import quad,dblquad,nquad\n",
    "N=len(flux)\n",
    "M=3\n",
    "v=N-M #degrees of freedom\n",
    "print('Q=',quad(lambda  x:np.exp(-x)*x**(v/2-1),x_square/2,np.inf)/gamma(v/2))\n",
    "print(\"since p-value is too low, it is not a good fit.\")"
   ]
  },
  {
   "cell_type": "markdown",
   "metadata": {},
   "source": [
    "# Problem 3"
   ]
  },
  {
   "cell_type": "code",
   "execution_count": 9,
   "metadata": {
    "collapsed": true
   },
   "outputs": [],
   "source": [
    "#vary tao\n",
    "tao=0.08\n",
    "t0=124.51\n",
    "x_squarelist=[]\n",
    "tao_list=[]\n",
    "while tao<0.13:\n",
    "    tao_list.append(tao)\n",
    "    z=(time_obs-t0)/tao\n",
    "    F_estimated=[]\n",
    "    for i in range(0,len(flux),1):\n",
    "        F_estimated.append(F_function(abs(z[i]),0.0775,1000))\n",
    "    x_square=0\n",
    "    for i in range(0,len(flux),1):\n",
    "        x_square=x_square+((flux[i]-F_estimated[i])/error[i])**2\n",
    "    x_squarelist.append(x_square)\n",
    "    tao=tao+0.001    "
   ]
  },
  {
   "cell_type": "code",
   "execution_count": 11,
   "metadata": {},
   "outputs": [
    {
     "data": {
      "image/png": "[encoded data removed]",
      "text/plain": [
       "<matplotlib.figure.Figure at 0x141dea3588>"
      ]
     },
     "metadata": {},
     "output_type": "display_data"
    }
   ],
   "source": [
    "p1=plt.scatter(tao_list,x_squarelist,marker='.',color='c',label='1',s=30) \n",
    "plt.xlabel('tao')  \n",
    "plt.ylabel('x_square')\n",
    "plt.show()"
   ]
  },
  {
   "cell_type": "code",
   "execution_count": 12,
   "metadata": {
    "collapsed": true
   },
   "outputs": [],
   "source": [
    "minval=np.min(x_squarelist)\n",
    "index=np.where(x_squarelist==minval)"
   ]
  },
  {
   "cell_type": "code",
   "execution_count": 13,
   "metadata": {},
   "outputs": [
    {
     "data": {
      "text/plain": [
       "(array([17]),)"
      ]
     },
     "execution_count": 13,
     "metadata": {},
     "output_type": "execute_result"
    }
   ],
   "source": [
    "index"
   ]
  },
  {
   "cell_type": "code",
   "execution_count": 14,
   "metadata": {},
   "outputs": [
    {
     "name": "stdout",
     "output_type": "stream",
     "text": [
      "minimum x square= 245.082238281 tao= 0.09700000000000002\n"
     ]
    }
   ],
   "source": [
    "print('minimum x square=',x_squarelist[17],'tao=',tao_list[17])"
   ]
  },
  {
   "cell_type": "code",
   "execution_count": 15,
   "metadata": {
    "collapsed": true
   },
   "outputs": [],
   "source": [
    "#plot for tao=0.097\n",
    "t0=124.51\n",
    "z=(time_obs-t0)/0.097\n",
    "# Find an eclipse shape use p=0.0775\n",
    "F_estimated=[]\n",
    "for i in range(0,len(flux),1):\n",
    "    F_estimated.append(F_function(abs(z[i]),0.0775,1000))"
   ]
  },
  {
   "cell_type": "code",
   "execution_count": 16,
   "metadata": {},
   "outputs": [
    {
     "data": {
      "image/png": "[encoded data removed]",
      "text/plain": [
       "<matplotlib.figure.Figure at 0x151dfd7ba8>"
      ]
     },
     "metadata": {},
     "output_type": "display_data"
    }
   ],
   "source": [
    "p1=plt.scatter(z,flux,marker='x',color='g',label='1',s=30) \n",
    "p2=plt.scatter(z,F_estimated,marker='.',color='r',label='1',s=30) \n",
    "plt.ylim(0.9885,1.0006)\n",
    "plt.legend([p1,p2],['Original data','Estimators'])\n",
    "plt.xlabel('z')  \n",
    "plt.ylabel('Flux')\n",
    "plt.title('plot for tao=0.097') \n",
    "plt.show()"
   ]
  },
  {
   "cell_type": "code",
   "execution_count": 17,
   "metadata": {},
   "outputs": [
    {
     "name": "stdout",
     "output_type": "stream",
     "text": [
      "Q(tao=0.097)= [  5.72161036e-29   8.49177109e-31]\n",
      "since p-value is too low, it is not a good fit.\n"
     ]
    }
   ],
   "source": [
    "print('Q(tao=0.097)=',quad(lambda  x:np.exp(-x)*x**(v/2-1),x_squarelist[17]/2,np.inf)/gamma(v/2))\n",
    "print(\"since p-value is too low, it is not a good fit.\")"
   ]
  },
  {
   "cell_type": "code",
   "execution_count": 31,
   "metadata": {
    "collapsed": true
   },
   "outputs": [],
   "source": [
    "tao=0.0965\n",
    "t0=124.51\n",
    "x_squarelist2=[]\n",
    "tao_list2=[]\n",
    "while tao<0.0975:\n",
    "    tao_list2.append(tao)\n",
    "    z=(time_obs-t0)/tao\n",
    "    F_estimated2=[]\n",
    "    for i in range(0,len(flux),1):\n",
    "        F_estimated2.append(F_function(abs(z[i]),0.0775,1000))\n",
    "    x_square=0\n",
    "    for i in range(0,len(flux),1):\n",
    "        x_square=x_square+((flux[i]-F_estimated2[i])/error[i])**2\n",
    "    x_squarelist2.append(x_square)\n",
    "    tao=tao+0.00002   "
   ]
  },
  {
   "cell_type": "code",
   "execution_count": 46,
   "metadata": {},
   "outputs": [
    {
     "data": {
      "image/png": "[encoded data removed]",
      "text/plain": [
       "<matplotlib.figure.Figure at 0x151e823b00>"
      ]
     },
     "metadata": {},
     "output_type": "display_data"
    }
   ],
   "source": [
    "p1=plt.scatter(tao_list2,x_squarelist2,marker='.',color='g',label='1',s=30) \n",
    "plt.xlabel('tao')  \n",
    "plt.ylabel('x_square')\n",
    "x=np.arange(0.092,0.102,0.0002)\n",
    "y=x_squarelist[17]+1+x*0\n",
    "p2=plt.plot(x,y,color='r')\n",
    "plt.show()"
   ]
  },
  {
   "cell_type": "code",
   "execution_count": 37,
   "metadata": {
    "collapsed": true
   },
   "outputs": [],
   "source": [
    "index = np.where(x_squarelist2 < x_squarelist[17]+1)"
   ]
  },
  {
   "cell_type": "code",
   "execution_count": 38,
   "metadata": {},
   "outputs": [
    {
     "data": {
      "text/plain": [
       "(array([10, 11, 12, 13, 14, 15, 16, 17, 18, 19, 20, 21, 22, 23, 24, 25, 26,\n",
       "        27, 28, 29, 30, 31]),)"
      ]
     },
     "execution_count": 38,
     "metadata": {},
     "output_type": "execute_result"
    }
   ],
   "source": [
    "index"
   ]
  },
  {
   "cell_type": "code",
   "execution_count": 49,
   "metadata": {},
   "outputs": [
    {
     "name": "stdout",
     "output_type": "stream",
     "text": [
      "one-sigma uncertainty= 0.0004200000000001286\n"
     ]
    }
   ],
   "source": [
    "uncertainty=tao_list2[31]-tao_list2[10]\n",
    "print(\"one-sigma uncertainty=\",uncertainty)"
   ]
  },
  {
   "cell_type": "code",
   "execution_count": 50,
   "metadata": {
    "collapsed": true
   },
   "outputs": [],
   "source": [
    "import emcee\n",
    "import numpy as np\n",
    "import matplotlib.pyplot as plt"
   ]
  },
  {
   "cell_type": "code",
   "execution_count": 54,
   "metadata": {
    "collapsed": true
   },
   "outputs": [],
   "source": [
    "def xquare(p,t0,tao):\n",
    "    z=(time_obs-t0)/tao\n",
    "    F_estimated=[]\n",
    "    for i in range(0,len(flux),1):\n",
    "        F_estimated.append(F_function(abs(z[i]),p,1000))\n",
    "    x_square=0\n",
    "    for i in range(0,len(flux),1):\n",
    "        x_square=x_square+((flux[i]-F_estimated[i])/error[i])**2\n",
    "    return x_square"
   ]
  },
  {
   "cell_type": "code",
   "execution_count": 56,
   "metadata": {},
   "outputs": [],
   "source": [
    "def lnprob(x, ivar):\n",
    "    p,t0,tao=x\n",
    "    return -0.5 * np.sum(ivar * xquare(p,t0,tao))\n",
    "\n",
    "ndim, nwalkers = 3, 100\n",
    "ivar = 1. / np.random.rand(ndim)\n",
    "\n"
   ]
  },
  {
   "cell_type": "code",
   "execution_count": 58,
   "metadata": {},
   "outputs": [],
   "source": [
    "p0 = [np.random.rand(ndim) for i in range(nwalkers)]"
   ]
  },
  {
   "cell_type": "code",
   "execution_count": 60,
   "metadata": {},
   "outputs": [],
   "source": [
    "sampler = emcee.EnsembleSampler(nwalkers, ndim, lnprob, args=[ivar])"
   ]
  },
  {
   "cell_type": "code",
   "execution_count": 64,
   "metadata": {},
   "outputs": [
    {
     "data": {
      "text/plain": [
       "(array([[ 2.61212349,  2.04373466,  0.13050883],\n",
       "        [ 1.7607713 ,  2.01947389, -0.05804901],\n",
       "        [ 0.51296128,  0.41986342, -2.58042581],\n",
       "        [ 1.16863828,  0.72837922, -0.13696626],\n",
       "        [ 0.5973397 ,  0.86632614,  0.77411962],\n",
       "        [ 1.98974871,  1.16496782,  1.33291143],\n",
       "        [ 0.41383467,  0.25865755,  0.8353171 ],\n",
       "        [ 0.32860842,  1.05993686,  1.32095491],\n",
       "        [ 0.40191146,  0.64536848,  0.8742699 ],\n",
       "        [ 2.97177665,  0.97240293,  0.63947531],\n",
       "        [ 0.44263484,  3.97761038,  2.65224576],\n",
       "        [ 1.26709388, -1.34398038, -1.50075896],\n",
       "        [ 0.72834459,  0.32052168,  0.39533298],\n",
       "        [ 0.48255434,  0.64565049, -0.20397065],\n",
       "        [-0.37408798, -0.36291299, -0.21774928],\n",
       "        [-1.97412321,  2.27599622, -1.78542779],\n",
       "        [ 1.05850165,  2.52051445, -0.24173483],\n",
       "        [-2.39885451, -0.04138134,  2.53338592],\n",
       "        [ 0.0155291 ,  2.94728703,  2.56005595],\n",
       "        [-0.25348622,  0.35710527,  0.26175336],\n",
       "        [ 0.36508932, -0.34037025,  0.7627217 ],\n",
       "        [-2.98198938, -2.10147915, -0.44009181],\n",
       "        [-1.05638783,  0.63287256,  0.7319999 ],\n",
       "        [ 2.91813846,  1.74617226,  1.77409774],\n",
       "        [-0.9713278 , -0.61320326,  1.27313601],\n",
       "        [ 0.258676  ,  4.77563037, -0.83279807],\n",
       "        [ 0.62113829,  0.09525046,  0.15465676],\n",
       "        [ 2.56495402,  1.20854527,  1.84621812],\n",
       "        [ 7.55356952,  0.75275911, -2.68430501],\n",
       "        [ 1.97080834,  0.62613736,  0.14648864],\n",
       "        [ 0.76330611,  0.30998742, -0.49639243],\n",
       "        [ 1.77533466,  0.90815726,  2.06702895],\n",
       "        [-0.43189927,  1.06435981, -1.64576201],\n",
       "        [-0.71813912, -0.02091876, -0.46569992],\n",
       "        [ 0.91524808,  0.44456967, -0.19407189],\n",
       "        [ 3.09127994,  1.81527605,  0.31763137],\n",
       "        [ 1.19689028,  0.61728214, -0.69413196],\n",
       "        [ 0.92808427, -0.00990779,  0.16491919],\n",
       "        [ 0.94716851,  0.90230833,  0.57021404],\n",
       "        [-1.86128205,  2.93022076,  3.58194573],\n",
       "        [ 0.24030414,  0.19510232,  0.35168877],\n",
       "        [ 1.15503286,  1.2758275 , -0.42642343],\n",
       "        [-0.62005669,  0.72116875, -0.21734055],\n",
       "        [-0.09818285,  2.33117873, -1.85217831],\n",
       "        [ 1.23145187,  1.33998321,  1.19063412],\n",
       "        [ 1.58366637,  2.63468473,  2.52978837],\n",
       "        [ 0.44315245,  1.69443584,  0.15366474],\n",
       "        [ 0.44718662,  0.35957012,  1.16213488],\n",
       "        [ 0.65732956,  1.24905529,  1.01350837],\n",
       "        [ 0.58710164,  2.95883174, -0.78157166],\n",
       "        [-1.11427692, -1.57687059, -1.54412552],\n",
       "        [-4.63906906, -1.41115993, -1.65071267],\n",
       "        [-1.66311127, -0.40088973,  0.69732661],\n",
       "        [ 0.74263148,  1.45165089,  0.41331104],\n",
       "        [ 0.10263848,  0.36081222,  3.85868359],\n",
       "        [ 1.93701966,  1.4309027 , -0.11610246],\n",
       "        [ 0.73687539,  0.4243308 ,  0.85303886],\n",
       "        [-3.31602329,  0.65719708,  0.59226281],\n",
       "        [-0.49036165,  0.33516374,  1.45659731],\n",
       "        [ 4.26003341,  1.70551102,  1.98571138],\n",
       "        [ 0.53406542, -0.48377138,  1.39633417],\n",
       "        [ 2.30139558, -1.98666191, -1.05076194],\n",
       "        [ 0.8525269 , -1.63314657,  1.39940149],\n",
       "        [ 1.28881817,  1.03222597,  0.89329973],\n",
       "        [-1.05363429,  0.33763362,  1.6865079 ],\n",
       "        [-0.5521104 , -0.26847012,  1.28014868],\n",
       "        [ 0.62201603,  0.5768795 ,  0.69405299],\n",
       "        [ 2.63247939, -4.56310662, -0.34575374],\n",
       "        [-1.08247692, -0.3339105 ,  1.1132935 ],\n",
       "        [ 1.0594167 ,  0.78882616,  3.06466347],\n",
       "        [ 2.46341722,  1.19274564,  1.4105151 ],\n",
       "        [ 0.65235153,  0.16869805,  0.62583424],\n",
       "        [-0.23791136, -0.55676944,  3.00771949],\n",
       "        [ 1.3185818 ,  1.33599835,  3.17751629],\n",
       "        [ 1.32951922, -5.35528446,  0.41871664],\n",
       "        [ 0.66787329, -1.28973395,  0.22501411],\n",
       "        [ 0.59211781,  0.05103332, -0.60506227],\n",
       "        [ 0.37631084,  0.52904778,  0.68948698],\n",
       "        [ 0.74747022, -0.17229311,  0.71423056],\n",
       "        [ 1.22934326, -1.01105171,  1.86829184],\n",
       "        [-0.12683064,  0.14610969,  0.87400553],\n",
       "        [ 0.0888946 ,  0.53737884,  0.26133479],\n",
       "        [ 0.72660943, -0.12999143,  2.05248519],\n",
       "        [-0.69487414, -0.26112876,  0.40031605],\n",
       "        [-0.77821304, -1.16991953,  0.60529291],\n",
       "        [ 0.38023773,  0.68934831,  0.24804697],\n",
       "        [ 0.36069657, -0.57211981,  0.49618107],\n",
       "        [-0.5737406 , -0.89690742, -0.07704114],\n",
       "        [-1.13133079, -1.32514463,  1.87326994],\n",
       "        [-2.54047805, -1.76970008, -0.39617025],\n",
       "        [ 1.6446638 , -1.9538691 , -3.57103933],\n",
       "        [ 2.0163132 ,  0.11380452, -0.7198911 ],\n",
       "        [ 1.15774825,  0.51246723,  0.3963352 ],\n",
       "        [-0.83315778,  0.62760265, -1.69843611],\n",
       "        [-0.12181498,  1.39744685, -0.45668411],\n",
       "        [ 0.10037248, -0.68876136, -0.46122363],\n",
       "        [ 2.80219003,  0.44395384, -0.56111033],\n",
       "        [ 0.93076637,  0.76998239,  0.50431824],\n",
       "        [ 1.3845351 ,  0.29079714,  0.82192498],\n",
       "        [ 0.48129546,  0.7673841 , -0.17391868]]),\n",
       " array([-293902.83267401, -293902.83267401, -293902.83267401,\n",
       "        -293902.83267401, -293902.83267401, -293902.83267401,\n",
       "        -293902.83267401, -293902.83267401, -293902.83267401,\n",
       "        -293902.83267401, -293902.83267401, -293902.83267401,\n",
       "        -293902.83267401, -293902.83267401, -293902.83267401,\n",
       "        -293902.83267401, -293902.83267401, -293902.83267401,\n",
       "        -293902.83267401, -293902.83267401, -293902.83267401,\n",
       "        -293902.83267401, -293902.83267401, -293902.83267401,\n",
       "        -293902.83267401, -293902.83267401, -293902.83267401,\n",
       "        -293902.83267401, -293902.83267401, -293902.83267401,\n",
       "        -293902.83267401, -293902.83267401, -293902.83267401,\n",
       "        -293902.83267401, -293902.83267401, -293902.83267401,\n",
       "        -293902.83267401, -293902.83267401, -293902.83267401,\n",
       "        -293902.83267401, -293902.83267401, -293902.83267401,\n",
       "        -293902.83267401, -293902.83267401, -293902.83267401,\n",
       "        -293902.83267401, -293902.83267401, -293902.83267401,\n",
       "        -293902.83267401, -293902.83267401, -293902.83267401,\n",
       "        -293902.83267401, -293902.83267401, -293902.83267401,\n",
       "        -293902.83267401, -293902.83267401, -293902.83267401,\n",
       "        -293902.83267401, -293902.83267401, -293902.83267401,\n",
       "        -293902.83267401, -293902.83267401, -293902.83267401,\n",
       "        -293902.83267401, -293902.83267401, -293902.83267401,\n",
       "        -293902.83267401, -293902.83267401, -293902.83267401,\n",
       "        -293902.83267401, -293902.83267401, -293902.83267401,\n",
       "        -293902.83267401, -293902.83267401, -293902.83267401,\n",
       "        -293902.83267401, -293902.83267401, -293902.83267401,\n",
       "        -293902.83267401, -293902.83267401, -293902.83267401,\n",
       "        -293902.83267401, -293902.83267401, -293902.83267401,\n",
       "        -293902.83267401, -293902.83267401, -293902.83267401,\n",
       "        -293902.83267401, -293902.83267401, -293902.83267401,\n",
       "        -293902.83267401, -293902.83267401, -293902.83267401,\n",
       "        -293902.83267401, -293902.83267401, -293902.83267401,\n",
       "        -293902.83267401, -293902.83267401, -293902.83267401,\n",
       "        -293902.83267401]),\n",
       " ('MT19937', array([2490678363, 2278015148, 2367648215, 3373917890, 1461664631,\n",
       "         1804763571, 4123711966, 3504858836, 1783357132,  665190097,\n",
       "         2771105949,   26065026, 3878612585, 3501154006,  842736469,\n",
       "         3131959264, 3380349622,  247035880, 4202555778, 3127341375,\n",
       "          611829471,  296120850,  884411162, 3952774697, 3366169247,\n",
       "         3944008782, 1392995499, 3846233876,   82828076,  831006287,\n",
       "         2366951745, 3156567259,  480593722, 4160816117,  844006384,\n",
       "         1691560108, 2767930191,  234738495,   80807536, 4178176829,\n",
       "         3818903205, 1178709652,  928977790, 3336615259,  924946661,\n",
       "         1267729584,  323758038, 1629627793, 1243254332,  193922509,\n",
       "         2711000289, 3900942857, 1532665411,  806949791,  228610364,\n",
       "         1156932421, 1273426280, 1499540254, 1141750219, 1755992512,\n",
       "         4005413511, 1298213354, 4227136006,  198976300, 1312518481,\n",
       "          403044244, 2948217849, 4122127150, 1129564645, 3268413252,\n",
       "         1697889688, 4017181306, 2508915596, 2815759944, 2335055563,\n",
       "          871664385,  428184177, 2532226712,   26942747, 1894235813,\n",
       "         1856700468, 2258815526, 2771567746, 3683576854, 2849714163,\n",
       "           42948205, 2003472937, 1242808122, 3694499417, 1397673422,\n",
       "          798925474, 3551401318, 1192740601, 3138604956, 1893136412,\n",
       "          110179324, 3011538953, 1524194712,  447865910, 1650808977,\n",
       "          892681340, 3908745285, 3927165410,  699520208, 4262927075,\n",
       "         3257937361, 2799519081, 3378469751, 1044861977, 4261394687,\n",
       "         2145360799,  189852143, 3406263568, 1550912972, 2867674855,\n",
       "         2516089333, 2944439129, 1627350309, 4009146011, 4045607465,\n",
       "         1934855199, 3931452164, 1809384262, 2530999097, 3314184556,\n",
       "         1178650893,  632675304, 2915486061, 2341693842,  642686322,\n",
       "          878273509, 1055232649,  574524790, 3206223851, 1501470301,\n",
       "         2085856333, 2967048107, 2611072313, 1142485660,  153229637,\n",
       "         1809136235, 3348484060,  990406196, 2705307667,   43474053,\n",
       "         1252395077,  971260832, 3161616954, 3318502824,  294203045,\n",
       "         2747290306, 3210664774,  602119248,   16173851, 2592804544,\n",
       "          401629070, 1894673760, 4088942485,  227192584, 4260758322,\n",
       "         1468676384,  170022351, 4140284084, 2557059482, 2096738861,\n",
       "          469432137, 1281515058, 3967947621, 3850299166, 4117997623,\n",
       "          733361398, 1893579751, 1247080396, 3228164948, 2307632661,\n",
       "          256101202,  644609763, 3777960364, 3492319333, 2326625278,\n",
       "         3740998856,  540787679,  681686317, 1471375704, 3242480046,\n",
       "         3470799529,  260865344, 3029626153, 1828642979, 3838130895,\n",
       "         2586942340, 3629989238, 1509061158, 1723130370,  196641338,\n",
       "         2832423124, 3356815702, 2262214877, 1316028684, 1586734117,\n",
       "          126645388, 2621940316, 1495711247, 3031593436, 1799429800,\n",
       "         2111800071, 1705792100,  101710193, 3652640944, 2611290420,\n",
       "          127632674, 2190751889, 3646225363, 1028913812, 3264755751,\n",
       "         2522198631, 1885506658, 3211178486, 3689167638, 1600060892,\n",
       "          872577217,  803233644,  768464763, 3153834761,  488652981,\n",
       "         4071997736, 1011591491, 3515769427, 1290297826,  465395157,\n",
       "         3782346794,  532434855, 2894416847,  837290027, 2386344674,\n",
       "          397203107, 2862480897, 3683409031, 1319473970, 4096498450,\n",
       "         4038609329, 3268466402, 1491197742, 1625203681, 1920662162,\n",
       "          460502463, 2174367489, 2903931329, 1705610767, 1561419033,\n",
       "         4121582281,  257518793, 2200751008, 4098364327, 1682915355,\n",
       "         3531024936, 3538579138, 3849772110,  501937933, 2629918424,\n",
       "         3781781035, 2258175433, 3015330699, 1894653271,  535800352,\n",
       "         1063661557, 4197671411,  258272117, 3542351668, 3947761892,\n",
       "         2253677583, 3975680468, 3206344955, 3496629817, 3711341070,\n",
       "         1930507878, 4062113384, 2173262696,  390384848, 3122569518,\n",
       "          409286110,   73695697, 3922420824, 3331315910,  664905524,\n",
       "          834492553, 2634834437, 3201782316, 4166377257, 2663419327,\n",
       "         2543029678, 2510431852,  460539728, 2790783229, 1977742346,\n",
       "         3382944047,  586986341, 1789830261,  620000281,  892616232,\n",
       "         3479414398, 2040925920, 2895892261, 1902267229, 2016251453,\n",
       "         1095343351, 1361034481, 4292603646,   31695974, 3521739226,\n",
       "         2399784813, 2752513537, 2694759756, 3875916633, 4020752279,\n",
       "         3724394597,  908745483, 1140754859, 3328785364, 1587058393,\n",
       "         3509084037, 3042370292, 1114171264, 3882262676, 1771889116,\n",
       "          525748348,   37196845, 4251585592,  155056125, 3088275958,\n",
       "          175991199, 2931413915, 1783643121, 3981592669,  741339552,\n",
       "          868116947,  452656446,  374184597, 2694263511, 2298675669,\n",
       "         2266233487, 3132825975, 1022089277, 4108171553, 2350953217,\n",
       "          512252573,  535284409, 2558278432, 2751931220, 2872367425,\n",
       "         2593958422,  553270738,  473691260, 1711235852,  528207903,\n",
       "         1396795667, 2056130521, 3328072875, 2708333884, 3640570536,\n",
       "         4145432329, 2776067025, 3212371816, 2892978032,  983810268,\n",
       "         2321008390, 3097672417, 3252535075, 2012266754, 3978557903,\n",
       "         3710429636, 3966471698,  523932426, 2635760967, 2035441210,\n",
       "           21449509, 2973568082, 2848751331, 1812618927,  297158576,\n",
       "         2514983976,  327831360, 1303439195,  335305633, 1322047053,\n",
       "         2422204340, 3055330485, 2961330917, 2652618241,  133339885,\n",
       "          636294399, 1821120586, 2791270082,  383266062,  532184261,\n",
       "         1223531295, 3100933254, 3851755408, 3401259264, 4267147510,\n",
       "         1598664085, 2087250472, 1043976533,  643401589,  746011072,\n",
       "           60979785, 1278657748, 2354060578, 4167815718, 3269980480,\n",
       "          801236115, 2208638326, 1188722215, 1477324888, 2663276656,\n",
       "            5372722, 3753975799, 3521424322, 2351065146, 3349047406,\n",
       "         4258749462, 3665211520, 3142880162, 2033935681, 4225308764,\n",
       "         4065202670, 1881761308, 3903421200, 3156033281,  989848986,\n",
       "          373332983, 1123848429, 3316604099, 2803723935, 3507657619,\n",
       "          988568455, 1117410533, 1393845958,  213675117, 2204842068,\n",
       "         4275595233, 3017026613, 3636119111, 1399445768, 1725674033,\n",
       "          332003632, 1141743975, 2064409226, 1190930713,   61465332,\n",
       "         1188068358, 2557304898,  282327524, 4008153669, 1193372627,\n",
       "          978652707, 2736570865, 3108759807, 1658946833, 3397666816,\n",
       "         1460301081, 4224008063, 3874315638, 1621637403, 3654616975,\n",
       "         1818271168, 2771887137, 3374924638, 1939564105,  896467672,\n",
       "          120209659,  391146574, 1421777872,  696736798,   71259240,\n",
       "         2827767088, 2080542577,  867561960, 2621926168, 2755748575,\n",
       "         1717468129, 2690259295, 4161363825, 1021704603, 1632924008,\n",
       "         1185745865, 4127536040,    2057539, 1486404477, 2186621872,\n",
       "         3184649108, 1629157673, 3555734696, 4045754733, 3059660605,\n",
       "         1015599535, 4067110599, 3648741497, 1756336365, 2178574949,\n",
       "         3092249417, 2172832173,  958422063, 1702812335, 2829939355,\n",
       "         1554857064, 2568245752, 3691718382, 2403155120, 3656049659,\n",
       "         4065963426, 2079154233,   53443043, 3128305738,  962908335,\n",
       "         4040392451, 3387805116, 1896640479, 4270966101, 3050510066,\n",
       "          960181257, 2428008285, 2466142962, 2967080546,  165158707,\n",
       "           11867327, 4153735104, 1131065441, 2602621770, 3667428626,\n",
       "         2089543946, 2863641100,  869132754, 2314358611, 1174889130,\n",
       "         2989011541,  526219998, 2359186289, 2922512821, 2267210614,\n",
       "          652895040, 3596679913, 1424014704, 2928891049, 3050639000,\n",
       "         1907721150, 1847656920, 2170034765, 1314438912,  369496535,\n",
       "         1020622652, 3488811726, 4127884171, 1105522290, 2084706429,\n",
       "         4190404382, 3993332488, 3379239895, 1839202368, 3956280228,\n",
       "          395938133,  813653926, 2807791454, 4286143054, 3693917993,\n",
       "          344733604, 2839538979, 1711978431, 3618926868, 3149652467,\n",
       "         2439082972,  531600276, 2321877114, 3914546586, 2202385387,\n",
       "         2334531155, 2764871087,  887757040, 4040994592,  795297791,\n",
       "         4220495286, 3616497104, 4177724470, 2323812927, 2382176442,\n",
       "         2576877827, 2393900507,  114019069, 4126627791, 3265637155,\n",
       "          785968180, 3907373922, 2505675907, 4222001050, 1575013659,\n",
       "         1242382362, 3852730520, 2530899202,  826429115,  364011923,\n",
       "         3888197756, 3493424023, 2674378355, 1326086689, 1032390430,\n",
       "         1008747507, 3899092459, 3515972412, 1799360875, 1939314921,\n",
       "         2497442025, 2722054591, 2840051368,  714286770, 1682394688,\n",
       "         3882144355, 2509291477, 4207260993, 2442358250, 3174566799,\n",
       "         1582248654, 2527724448, 4098572226, 1810272884], dtype=uint32), 202, 0, 0.0))"
      ]
     },
     "execution_count": 64,
     "metadata": {},
     "output_type": "execute_result"
    }
   ],
   "source": [
    "\n",
    "sampler.run_mcmc(p0, 5)"
   ]
  },
  {
   "cell_type": "code",
   "execution_count": null,
   "metadata": {
    "collapsed": true
   },
   "outputs": [],
   "source": []
  }
 ],
 "metadata": {
  "kernelspec": {
   "display_name": "Python 3",
   "language": "python",
   "name": "python3"
  },
  "language_info": {
   "codemirror_mode": {
    "name": "ipython",
    "version": 3
   },
   "file_extension": ".py",
   "mimetype": "text/x-python",
   "name": "python",
   "nbconvert_exporter": "python",
   "pygments_lexer": "ipython3",
   "version": "3.6.3"
  }
 },
 "nbformat": 4,
 "nbformat_minor": 2
}
